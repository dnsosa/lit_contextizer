{
 "cells": [
  {
   "cell_type": "code",
   "execution_count": null,
   "metadata": {},
   "outputs": [],
   "source": [
    "import argparse\n",
    "from Bio import Entrez\n",
    "import io\n",
    "\n",
    "from bioconverters import convert\n",
    "\n",
    "acceptedInFormats = ['biocxml','pubmedxml','pmcxml']\n",
    "acceptedOutFormats = ['biocxml','txt']\n",
    "\n",
    "parser = argparse.ArgumentParser(description='Downloads and converts small number of PubMed or PubMed Central documents. Useful for testing purposes.')\n",
    "parser.add_argument('--database',type=str,required=True,help=\"Which database to use (pubmed/pmc)\")\n",
    "parser.add_argument('--identifiers',type=str,required=True,help=\"PubMed or PMC identifiers (comma-delimited). Max of 10.\")\n",
    "parser.add_argument('--email',type=str,required=True,help=\"Entrez requires an email address is provided to use their API\")\n",
    "parser.add_argument('--o',type=str,required=True,help=\"Where to store resulting converted docs\")\n",
    "parser.add_argument('--oFormat',type=str,required=True,help=\"Format for output corpus. Options: %s\" % \"/\".join(acceptedOutFormats))\n",
    "\n",
    "args = parser.parse_args()\n",
    "\n",
    "Entrez.email = args.email\n",
    "\n",
    "assert args.database in ['pubmed','pmc'], \"Database must be pubmed or pmc\"\n",
    "identifiers = args.identifiers.split(',')\n",
    "assert len(identifiers) <= 10, \"Too many identifiers provided. The EUtils API should only be used for a small number of documents\"\n",
    "\n",
    "inFormat = \"pubmedxml\" if args.database == \"pubmed\" else \"pmcxml\"\n",
    "\n",
    "doc_xmls = []\n",
    "for identifier in identifiers:\n",
    "    handle = Entrez.efetch(db=args.database, id=identifier, rettype=\"gb\", retmode=\"xml\")\n",
    "    doc_xml = io.StringIO(handle.read().decode('utf-8'))\n",
    "    doc_xmls.append(doc_xml)\n",
    "\n",
    "outFormat = args.oFormat.lower()\n",
    "assert outFormat in acceptedOutFormats, \"%s is not an accepted output format. Options are: %s\" % (outFormat, \"/\".join(acceptedOutFormats))\n",
    "\n",
    "print(\"Fetching and converting %d files from %s\" % (len(doc_xmls),args.database))\n",
    "convert(doc_xmls,inFormat,args.o,outFormat)\n",
    "print(\"Output to %s complete\" % args.o)"
   ]
  }
 ],
 "metadata": {
  "kernelspec": {
   "display_name": "Python 3",
   "language": "python",
   "name": "python3"
  },
  "language_info": {
   "codemirror_mode": {
    "name": "ipython",
    "version": 3
   },
   "file_extension": ".py",
   "mimetype": "text/x-python",
   "name": "python",
   "nbconvert_exporter": "python",
   "pygments_lexer": "ipython3",
   "version": "3.8.3"
  }
 },
 "nbformat": 4,
 "nbformat_minor": 4
}
