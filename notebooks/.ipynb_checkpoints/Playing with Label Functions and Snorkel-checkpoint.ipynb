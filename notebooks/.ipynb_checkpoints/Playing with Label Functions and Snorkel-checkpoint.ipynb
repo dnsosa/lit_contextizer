{
 "cells": [
  {
   "cell_type": "markdown",
   "metadata": {},
   "source": [
    "# Context Models Sandbox\n",
    "\n",
    "\n",
    "Dan Sosa\n",
    "Upated: 5/21/21\n",
    "\n",
    "This notebook is for exploring different models for context-event association. Considering 3 models:\n",
    "1. Enrique's previous work about a featurized representation\n",
    "2. Rule-based features including absract terms and MeSH headers for articles\n",
    "3. A BERT-based approach\n",
    "\n",
    "\n",
    "NOTE: As of 5/21/21, much of this code is deprecated or incorporated into the main lit_contextizer code base. This is here for posterity and reference regarding label functions and using Snorkel, which may be useful again in future."
   ]
  },
  {
   "cell_type": "markdown",
   "metadata": {},
   "source": [
    "#### Loading the Data"
   ]
  },
  {
   "cell_type": "code",
   "execution_count": 4,
   "metadata": {},
   "outputs": [],
   "source": [
    "import json\n",
    "from html.parser import HTMLParser\n",
    "\n",
    "import en_core_web_sm\n",
    "from functools import reduce\n",
    "import lit_contextizer as lc\n",
    "from lit_contextizer.data_models.Extractable import Context, Relation\n",
    "from lit_contextizer.data_models.Paper import Paper\n",
    "from lit_contextizer.data_models.Sentence import Sentence\n",
    "from lit_contextizer.data_models.Utilities import create_contexts, generate_pairs_features_df\n",
    "import matplotlib\n",
    "import matplotlib.pyplot as plt\n",
    "import numpy as np\n",
    "import pandas as pd\n",
    "import re\n",
    "import snorkel\n",
    "from snorkel.analysis import get_label_buckets\n",
    "from snorkel.labeling import labeling_function, LabelingFunction, PandasLFApplier\n",
    "from snorkel.preprocess.nlp import SpacyPreprocessor\n",
    "from snorkel.preprocess import preprocessor\n",
    "from snorkel.labeling.model import MajorityLabelVoter\n",
    "from snorkel.labeling.model import LabelModel\n",
    "import spacy\n",
    "from textblob import TextBlob\n",
    "from tqdm import tqdm\n",
    "\n"
   ]
  },
  {
   "cell_type": "code",
   "execution_count": 2,
   "metadata": {},
   "outputs": [],
   "source": [
    "svo_contra = pd.read_csv(\"../input/stanford_svo_contradiction.csv\", index_col=[0])\n",
    "svo_contra2 = pd.read_csv(\"../input/opensource_gene_gene_sign_contradictions_svo_w_license_strict_w_entity_locations.csv\", index_col=[0])"
   ]
  },
  {
   "cell_type": "code",
   "execution_count": 3,
   "metadata": {},
   "outputs": [],
   "source": [
    "# # For creating the test data\n",
    "# \n",
    "# \n",
    "# all_records[0]['doi'] = \"FakePaperDOI1\"\n",
    "#     \n",
    "# with open(\"../tests/test_inputs/annots_test_file.json\", 'w') as out_file:\n",
    "#     for rec in all_records[0:3]:\n",
    "#         print(rec['doi'])\n",
    "#         #out_file.write(str(rec).replace(\"\\'\", \"\\\"\")+\"\\n\")\n",
    "#         out_file.write(json.dumps(rec)+\"\\n\")\n",
    "#         \n",
    "#         \n",
    "# \n",
    "# # 30 seconds\n",
    "# \n",
    "# all_records = [] \n",
    "# with open(\"../input/annotated_documents.json\") as doc_json_file:\n",
    "#     count = 0\n",
    "#     ## ADD TQDM\n",
    "#     for line in tqdm(doc_json_file):\n",
    "#         count += 1\n",
    "#         record_json = json.loads(line)\n",
    "#         all_records.append(record_json)\n",
    "#         \n",
    "#         if count == 10:\n",
    "#             break\n",
    "#             \n",
    "#             \n",
    "# test_rels = svo_contra2.head(3)\n",
    "# test_rels.loc[1, 'doi'] = \"FakePaperDOI1\"\n",
    "# test_rels.loc[2, 'doi'] = \"FakePaperDOI1\"\n",
    "# test_rels.to_csv(\"../tests/test_inputs/relationships_test_file.csv\")\n",
    "    "
   ]
  },
  {
   "cell_type": "code",
   "execution_count": 4,
   "metadata": {},
   "outputs": [],
   "source": [
    "# # An example of dependency paths\n",
    "# \n",
    "# doc = nlp(P2_full_text)\n",
    "# spacy.displacy.serve(doc, style='dep')"
   ]
  },
  {
   "cell_type": "markdown",
   "metadata": {},
   "source": [
    "#### Featurized approach for detecting context-event association. Noriega-Atala et al."
   ]
  },
  {
   "cell_type": "code",
   "execution_count": 5,
   "metadata": {},
   "outputs": [],
   "source": [
    "dl = lc.data_models.DataLoader.DataLoader()"
   ]
  },
  {
   "cell_type": "code",
   "execution_count": 7,
   "metadata": {
    "collapsed": true
   },
   "outputs": [
    {
     "name": "stdout",
     "output_type": "stream",
     "text": [
      "Loading the big section master doc pickle\n"
     ]
    },
    {
     "ename": "KeyboardInterrupt",
     "evalue": "",
     "output_type": "error",
     "traceback": [
      "\u001b[0;31m---------------------------------------------------------------------------\u001b[0m",
      "\u001b[0;31mKeyboardInterrupt\u001b[0m                         Traceback (most recent call last)",
      "\u001b[0;32m<ipython-input-7-dd1a1e21253b>\u001b[0m in \u001b[0;36m<module>\u001b[0;34m\u001b[0m\n\u001b[1;32m      6\u001b[0m \u001b[0;31m# tot: 21243\u001b[0m\u001b[0;34m\u001b[0m\u001b[0;34m\u001b[0m\u001b[0;34m\u001b[0m\u001b[0m\n\u001b[1;32m      7\u001b[0m \u001b[0;31m##dl.parse_annotated_full_texts(load_max=1000, cell_type_only=True)\u001b[0m\u001b[0;34m\u001b[0m\u001b[0;34m\u001b[0m\u001b[0;34m\u001b[0m\u001b[0m\n\u001b[0;32m----> 8\u001b[0;31m \u001b[0mdl\u001b[0m\u001b[0;34m.\u001b[0m\u001b[0mparse_annotated_full_texts\u001b[0m\u001b[0;34m(\u001b[0m\u001b[0mload_max\u001b[0m\u001b[0;34m=\u001b[0m\u001b[0;36m10\u001b[0m\u001b[0;34m,\u001b[0m \u001b[0mcell_type_only\u001b[0m\u001b[0;34m=\u001b[0m\u001b[0;32mFalse\u001b[0m\u001b[0;34m)\u001b[0m\u001b[0;34m\u001b[0m\u001b[0;34m\u001b[0m\u001b[0m\n\u001b[0m\u001b[1;32m      9\u001b[0m \u001b[0mprint\u001b[0m\u001b[0;34m(\u001b[0m\u001b[0mlen\u001b[0m\u001b[0;34m(\u001b[0m\u001b[0mdl\u001b[0m\u001b[0;34m.\u001b[0m\u001b[0mpaper_pile\u001b[0m\u001b[0;34m)\u001b[0m\u001b[0;34m)\u001b[0m\u001b[0;34m\u001b[0m\u001b[0;34m\u001b[0m\u001b[0m\n",
      "\u001b[0;32m~/Desktop/AltmanLab/bai/Stanford-Collab/src/lit_contextizer/data_models/DataLoader.py\u001b[0m in \u001b[0;36mparse_annotated_full_texts\u001b[0;34m(self, in_file, section_mapper_master_file, load_max, in_keys, cell_type_only)\u001b[0m\n\u001b[1;32m     71\u001b[0m         \u001b[0;31m## # TODO: only 1000!!! Need to optimize\u001b[0m\u001b[0;34m\u001b[0m\u001b[0;34m\u001b[0m\u001b[0;34m\u001b[0m\u001b[0m\n\u001b[1;32m     72\u001b[0m         \u001b[0;31m## with open('/Users/dnsosa/Desktop/AltmanLab/bai/Stanford-Collab/input/bioc_dict_1000.pkl', 'rb') as f:\u001b[0m\u001b[0;34m\u001b[0m\u001b[0;34m\u001b[0m\u001b[0;34m\u001b[0m\u001b[0m\n\u001b[0;32m---> 73\u001b[0;31m         \u001b[0;31m##    self.global_section_mapper = pickle.load(f)\u001b[0m\u001b[0;34m\u001b[0m\u001b[0;34m\u001b[0m\u001b[0;34m\u001b[0m\u001b[0m\n\u001b[0m\u001b[1;32m     74\u001b[0m \u001b[0;34m\u001b[0m\u001b[0m\n\u001b[1;32m     75\u001b[0m         \u001b[0mprint\u001b[0m\u001b[0;34m(\u001b[0m\u001b[0;34m\"Finished loading. Now loading annotations.\"\u001b[0m\u001b[0;34m)\u001b[0m\u001b[0;34m\u001b[0m\u001b[0;34m\u001b[0m\u001b[0m\n",
      "\u001b[0;31mKeyboardInterrupt\u001b[0m: "
     ]
    }
   ],
   "source": [
    "# %%timeit\n",
    "\n",
    "# NOTE! Make sure to parse_annotated first. Need to fix code to not overwrite\n",
    "# TODO: Regex so I can get more than 150\n",
    "\n",
    "# tot: 21243\n",
    "##dl.parse_annotated_full_texts(load_max=1000, cell_type_only=True)\n",
    "dl.parse_annotated_full_texts(load_max=10, cell_type_only=False)\n",
    "print(len(dl.paper_pile))"
   ]
  },
  {
   "cell_type": "code",
   "execution_count": null,
   "metadata": {},
   "outputs": [],
   "source": [
    "dl.parse_relationships_file(load_max=999999)\n",
    "print(len(dl.paper_pile))"
   ]
  },
  {
   "cell_type": "code",
   "execution_count": 6,
   "metadata": {},
   "outputs": [],
   "source": [
    "def both_in_results(con_sec, rel_sec):\n",
    "    return ((con_sec == \"results\") and (rel_sec == \"results\"))\n",
    "\n",
    "def both_in_methods(con_sec, rel_sec):\n",
    "    return ((con_sec == \"methods\") and (rel_sec == \"methods\"))\n",
    "\n",
    "def is_fp(con):\n",
    "    sent = con.get_sentence()\n",
    "    pov = sent.get_pov()\n",
    "    return (\"1\" in pov)\n",
    "\n",
    "def generate_pairs_features_df(paper_dict: dict):\n",
    "    \"\"\"\n",
    "    Generate dataframe of pairs of (context, relation) from a paper pile with corresponding features to be used for classification.\n",
    "    :param paper_dict: A paper pile from which to generate all pairs of (cont, rel) and extract some features\n",
    "    \"\"\"\n",
    "    dois = []\n",
    "    rel_sens = []\n",
    "    con_sens = []\n",
    "    con_word = []\n",
    "    ent_word_1 = []\n",
    "    ent_word_2 = []\n",
    "    sents_dists = []\n",
    "    sec_dists = []\n",
    "    num_mentions = []\n",
    "    # most_commons = []\n",
    "    both_results = []\n",
    "    both_methods = []\n",
    "    closests = []\n",
    "    fp_contexts = []\n",
    "    max_pmis = []\n",
    "    entity_and_conts = []\n",
    "\n",
    "    ct = 0\n",
    "    for paper_doi in paper_dict.keys():\n",
    "        ct += 1\n",
    "        \n",
    "        if ct % 5 == 0:\n",
    "            print(f\"Extracting from paper {ct}\")\n",
    "            \n",
    "        if ct == 100:\n",
    "            break\n",
    "        \n",
    "        \n",
    "        paper = paper_dict[paper_doi]\n",
    "\n",
    "        paper_context_list = paper.context_list\n",
    "        paper_relation_list = paper.relations\n",
    "        if len(paper_context_list) > 0:\n",
    "            #paper_sent_dists = []\n",
    "            for rel in paper_relation_list:\n",
    "                for con in paper_context_list:\n",
    "                    tick = time.time()\n",
    "                     \n",
    "                    tock = time.time()\n",
    "                    dois.append(paper.get_doi())\n",
    "                    rel_sens.append(rel.get_sentence().get_text())\n",
    "                    con_sens.append(con.get_sentence().get_text())\n",
    "                    con_word.append(con.get_text())\n",
    "                    ent_word_1.append(rel.get_entity1())\n",
    "                    ent_word_2.append(rel.get_entity2())\n",
    "                    sents_dists.append(paper.sentence_distance(con, rel)[0])\n",
    "                    sec_dists.append(paper.section_distance(con, rel)[0])\n",
    "                    num_mentions.append(paper.num_mentions(con))\n",
    "                    both_results.append(both_in_results(paper.get_section_type(con)[0], paper.get_section_type(rel)[0]))\n",
    "                    both_methods.append(both_in_methods(paper.get_section_type(con)[0], paper.get_section_type(rel)[0]))\n",
    "                    # most_commons.append(is_most_common(con))\n",
    "                    closests.append(paper.is_closest(con, rel))\n",
    "                    fp_contexts.append(is_fp(con))\n",
    "                    \n",
    "                    pmi_info = paper.calculate_pmi(con, rel)\n",
    "                    max_pmis.append(np.min(pmi_info[:2]))\n",
    "                    entity_and_conts.append(pmi_info[5])\n",
    "                    \n",
    "    df = pd.DataFrame(list(zip(dois, rel_sens, con_sens, con_word, ent_word_1, ent_word_2, sents_dists, sec_dists, num_mentions, both_results, both_methods, closests, fp_contexts, max_pmis, entity_and_conts)),\n",
    "                      columns=['DOI', 'RelationSent', 'ContextSent', 'ContextWord', 'RelEnt1', 'RelEnt2', 'SentDist', 'SecDist', 'NumContMentions', 'BothInResults', 'BothInMethods', 'IsClosestCon', 'IsFirstPersonCon', 'MinParagraphPMI', 'EntityContParaCoOccur']).drop_duplicates()\n",
    "\n",
    "    return df\n",
    "\n",
    "    \n",
    "# To add:\n",
    "# negated event mention\n",
    "# is most common context?\n",
    "# dependency path dist\n",
    "\n"
   ]
  },
  {
   "cell_type": "code",
   "execution_count": null,
   "metadata": {},
   "outputs": [],
   "source": [
    "xx = train_df.EntityContParaCoOccur\n",
    "\n",
    "fig = plt.figure(figsize=(7, 7))\n",
    "matplotlib.rcParams.update({'font.size': 16})\n",
    "\n",
    "plt.hist(xx, bins = 25, color=\"green\")\n",
    "plt.title(\"Number of context-relation paragraph co-occurrences\\n\")\n",
    "plt.xlabel(\"Number of co-occurrences\")\n",
    "plt.ylabel(\"Count\")\n",
    "plt.show()"
   ]
  },
  {
   "cell_type": "code",
   "execution_count": null,
   "metadata": {},
   "outputs": [],
   "source": [
    "train_df.to_csv(\"./train_df_100_out_withTissue.csv\")"
   ]
  },
  {
   "cell_type": "code",
   "execution_count": 29,
   "metadata": {},
   "outputs": [
    {
     "name": "stdout",
     "output_type": "stream",
     "text": [
      "BioCXML was apparently not found for PMID: None\n",
      "BioCXML was apparently not found for PMID: None\n",
      "BioCXML was apparently not found for PMID: None\n",
      "BioCXML was apparently not found for PMID: None\n",
      "BioCXML was apparently not found for PMID: None\n",
      "BioCXML was apparently not found for PMID: None\n",
      "BioCXML was apparently not found for PMID: None\n",
      "BioCXML was apparently not found for PMID: None\n",
      "BioCXML was apparently not found for PMID: None\n",
      "BioCXML was apparently not found for PMID: None\n"
     ]
    },
    {
     "name": "stderr",
     "output_type": "stream",
     "text": [
      "/Users/dnsosa/opt/miniconda3/envs/sklearn-dev-2/lib/python3.7/site-packages/ipykernel_launcher.py:111: FutureWarning: Sorting because non-concatenation axis is not aligned. A future version\n",
      "of pandas will change to not sort by default.\n",
      "\n",
      "To accept the future behavior, pass 'sort=False'.\n",
      "\n",
      "To retain the current behavior and silence the warning, pass 'sort=True'.\n",
      "\n"
     ]
    }
   ],
   "source": [
    "# dl.parse_annotation_files_for_val()\n",
    "\n",
    "\n",
    "\"\"\"Create a paper pile to be used as a validation set.\"\"\"\n",
    "# Create this val DF from all the papers where I'm combining across annotators\n",
    "# TODO: Why so many NaN sentence distances???\n",
    "# TODO: Put this somewhere else\n",
    "\n",
    "\n",
    "from lit_contextizer.data_models.Utilities import create_contexts, fix_xml,\\\n",
    "    load_all_groundings, two_common\n",
    "\n",
    "pd.set_option('display.max_colwidth', -1)\n",
    "\n",
    "paper_ids = [\"PMC2156142\", \"PMC3032653\", \"PMC3135394\", \"PMC3198449\", \"PMC3233644\", \"PMC3461631\", \"PMC4052680\",\n",
    "             \"PMC4250046\", \"PMC4746590\", \"PMC534114\"]\n",
    "paper_dfs = []\n",
    "annotated_connects = set()\n",
    "onto2texts, text2ontos = load_all_groundings()\n",
    "\n",
    "for paper_id in paper_ids:\n",
    "\n",
    "    paper_event_dict = {}\n",
    "    val_full_text_file = f\"/Users/dnsosa/Desktop/AltmanLab/bai/biotext/full_texts/{paper_id}.txt\"\n",
    "\n",
    "    # Open the full text\n",
    "    with open(val_full_text_file, 'r') as f:\n",
    "        pmc_txt = f.read()\n",
    "\n",
    "    # Create the paper\n",
    "    paper = Paper(title=paper_id,\n",
    "                  abstract=None,\n",
    "                  full_text=re.sub('\\n\\n', '. ', pmc_txt),\n",
    "                  doi=paper_id,\n",
    "                  pmcid=paper_id,\n",
    "                  pmid=None,  # DO NOT HAVE PMID FOR THESE\n",
    "                  journal=None)\n",
    "\n",
    "    annotator_events_dfs = []\n",
    "    for i in range(1, 4):\n",
    "        val_sentences = f\"../input/ENA_validation_data/sentences/{paper_id}_sentences.txt\"\n",
    "        # val_context_file = f\"../input/ENA_validation_data/BioContext_corpus/corpus_data/annotator{i}/{paper_id}_contexts.tsv\"\n",
    "        val_events_file = f\"../input/ENA_validation_data/BioContext_corpus/corpus_data/annotator{i}/{paper_id}_events.tsv\"\n",
    "        # val_groundings_file = f\"../input/ENA_validation_data/BioContext_corpus/corpus_data/annotator{i}/{paper_id}_groundings.tsv\"\n",
    "\n",
    "        # Open the sentences\n",
    "        sentences = []\n",
    "        with open(val_sentences, 'r') as sentences_file:\n",
    "            for line in sentences_file:\n",
    "                sentences.append(line)\n",
    "        paper_plain_text = '  '.join([sent.rstrip() for sent in sentences])\n",
    "\n",
    "        # And let's check out the events\n",
    "        colnames = ['event_sent_idx', 'event_span_idx', 'assoc_context_terms']\n",
    "        events = pd.read_csv(val_events_file, names=colnames, header=None, sep='\\t')\n",
    "        annotator_events_dfs.append(events)\n",
    "\n",
    "    df = reduce(lambda x, y: pd.merge(x, y, on='event_sent_idx'), annotator_events_dfs)[\n",
    "        [\"event_sent_idx\", \"assoc_context_terms_x\", \"assoc_context_terms_y\", \"assoc_context_terms\"]]\n",
    "    df = df.assign(annot1_ctx_terms=df['assoc_context_terms_x'].str.split(',')).explode('annot1_ctx_terms')[:]\n",
    "    df = df.reset_index().reindex(df.columns, axis=1)\n",
    "    df = df.assign(annot2_ctx_terms=df['assoc_context_terms_y'].str.split(',')).explode('annot2_ctx_terms')[:]\n",
    "    df = df.reset_index().reindex(df.columns, axis=1)\n",
    "    df = df.assign(annot3_ctx_terms=df['assoc_context_terms'].str.split(',')).explode('annot3_ctx_terms')[:]\n",
    "    df[\"two_agree\"] = df.apply(\n",
    "        lambda row: two_common(row.annot1_ctx_terms, row.annot2_ctx_terms, row.annot3_ctx_terms), 1)\n",
    "    df = df[[\"event_sent_idx\", \"annot1_ctx_terms\", \"annot2_ctx_terms\", \"annot3_ctx_terms\",\n",
    "             \"two_agree\"]].dropna().groupby([\"event_sent_idx\", \"two_agree\"]).apply(pd.DataFrame.sample, n=1)\n",
    "    df[\"paper_id\"] = paper_id\n",
    "    paper_dfs.append(df)\n",
    "\n",
    "    # Create the appropriate objects now given the final merged data frame\n",
    "    for _index, row in df.iterrows():\n",
    "        # NOTE: Decision -- if there's ever a relation with no associted context, ignore the relation\n",
    "        # NOTE: Only looking for adding contexts/relations based on annotator agreements\n",
    "\n",
    "        event_sent_idx = int(row[\"event_sent_idx\"])\n",
    "        # event_idx_l, event_idx_r = [int(i) for i in row[\"event_span_idx\"].split(\"-\")]\n",
    "        # assoc_context_terms = row[\"assoc_context_terms\"].split(',')\n",
    "        assoc_context_term = row[\"two_agree\"]\n",
    "        generic_filler_attributes = {\"type\": None, \"pos\": -9999}\n",
    "\n",
    "        if assoc_context_term not in onto2texts:\n",
    "            # for example, annotated manual:HCE, but grounding is manual:HCE-cells. Accepting the loss here.\n",
    "            continue\n",
    "        texts = onto2texts[assoc_context_term]\n",
    "        for text in texts:\n",
    "            paper_event_dict[text.lower()] = generic_filler_attributes\n",
    "            annotated_connects.add((sentences[event_sent_idx].rstrip(), text.lower()))\n",
    "\n",
    "        relation = Relation(main_verb=None,\n",
    "                            entity1=None,\n",
    "                            entity2=None,\n",
    "                            text=sentences[event_sent_idx].rstrip(),\n",
    "                            paper_doi=paper_id,\n",
    "                            paper_pmcid=paper_id, # TODO: fix these all being the same!\n",
    "                            paper_pmid=paper_id,\n",
    "                            start_idx=None,\n",
    "                            end_idx=None,\n",
    "                            sent_idx=event_sent_idx,\n",
    "                            sentence=Sentence(sentences[event_sent_idx]))\n",
    "\n",
    "        paper.add_relation(relation)\n",
    "\n",
    "    # Create a context list based on the events at the intersection\n",
    "    create_contexts(paper, paper_event_dict, paper_plain_text)\n",
    "    #paper.set_context_list(context_list)\n",
    "    dl.val_paper_pile[paper_id] = paper\n",
    "\n",
    "# Combine the DFs across papers\n",
    "annot_overlap_all_papers_df = pd.concat(paper_dfs)\n",
    "\n",
    "\n"
   ]
  },
  {
   "cell_type": "code",
   "execution_count": null,
   "metadata": {},
   "outputs": [],
   "source": []
  },
  {
   "cell_type": "code",
   "execution_count": null,
   "metadata": {},
   "outputs": [],
   "source": []
  },
  {
   "cell_type": "code",
   "execution_count": null,
   "metadata": {},
   "outputs": [],
   "source": []
  },
  {
   "cell_type": "code",
   "execution_count": null,
   "metadata": {},
   "outputs": [],
   "source": []
  },
  {
   "cell_type": "code",
   "execution_count": null,
   "metadata": {},
   "outputs": [],
   "source": []
  },
  {
   "cell_type": "code",
   "execution_count": null,
   "metadata": {},
   "outputs": [],
   "source": [
    "# For all papers, what's distribution of relations per paper?\n",
    "\n",
    "relation_cts = []\n",
    "context_cts = []\n",
    "relation_filtered_cts = []\n",
    "for doi in dl.paper_pile:\n",
    "    paper = dl.paper_pile[doi]\n",
    "    rels = paper.relations\n",
    "    conts = paper.context_list\n",
    "    relation_cts.append(len(rels))\n",
    "    if len(conts) > 0:\n",
    "        context_cts.append(len(conts))\n",
    "        relation_filtered_cts.append(len(rels))\n",
    "\n",
    "x = context_cts\n",
    "y = relation_filtered_cts\n",
    "\n",
    "matplotlib.rcParams.update({'font.size': 18})\n",
    "\n",
    "def scatter_hist(x, y, ax, ax_histx, ax_histy):\n",
    "    # no labels\n",
    "    ax_histx.tick_params(axis=\"x\", labelbottom=False)\n",
    "    ax_histy.tick_params(axis=\"y\", labelleft=False)\n",
    "\n",
    "    # the scatter plot:\n",
    "    ax.hist2d(x, y, bins=[30,15], cmap=plt.get_cmap('YlOrBr'))\n",
    "    ax_histx.hist(x, bins=30, color='#c2c2c2')\n",
    "    ax_histy.hist(y, bins=15, orientation='horizontal', color='#c2c2c2')\n",
    "    \n",
    "# definitions for the axes\n",
    "left, width = 0.1, 0.65\n",
    "bottom, height = 0.1, 0.65\n",
    "spacing = 0.03\n",
    "\n",
    "\n",
    "rect_scatter = [left, bottom, width, height]\n",
    "rect_histx = [left, bottom + height + spacing, width, 0.2]\n",
    "rect_histy = [left + width + spacing, bottom, 0.2, height]\n",
    "\n",
    "# start with a square Figure\n",
    "fig = plt.figure(figsize=(8, 8))\n",
    "\n",
    "ax = fig.add_axes(rect_scatter)\n",
    "ax_histx = fig.add_axes(rect_histx, sharex=ax)\n",
    "ax_histy = fig.add_axes(rect_histy, sharey=ax)\n",
    "\n",
    "ax.set_xlabel('Cell Type Context Mention Count')\n",
    "ax.set_ylabel('G-G Relationship Count')\n",
    "\n",
    "# use the previously defined function\n",
    "scatter_hist(x, y, ax, ax_histx, ax_histy)\n",
    "\n",
    "plt.show()"
   ]
  },
  {
   "cell_type": "code",
   "execution_count": 52,
   "metadata": {},
   "outputs": [
    {
     "data": {
      "image/png": "[encoded data removed]",
      "text/plain": [
       "<Figure size 720x720 with 1 Axes>"
      ]
     },
     "metadata": {
      "needs_background": "light"
     },
     "output_type": "display_data"
    }
   ],
   "source": [
    "fig = plt.figure(figsize=(10, 10))\n",
    "\n",
    "# For 1000 papers, how many context words are there? How many unique words are there? What's the distribution of frequencies of terms?\n",
    "cont_terms = {}\n",
    "cont_type_freq = {}\n",
    "for doi in dl.paper_pile:\n",
    "    paper = dl.paper_pile[doi]\n",
    "    conts = paper.context_list\n",
    "    for cont in conts:\n",
    "        c_txt = cont.get_text()\n",
    "        c_type = cont.get_ctx_type()\n",
    "\n",
    "        #print(f\"'{c_txt}' has type: '{c_type}'\")\n",
    "        if c_txt not in cont_terms:\n",
    "            cont_terms[c_txt] = 1\n",
    "        else:\n",
    "            cont_terms[c_txt] += 1\n",
    "            \n",
    "        if c_type not in cont_type_freq:\n",
    "            cont_type_freq[c_type] = 1\n",
    "        else:\n",
    "            cont_type_freq[c_type] += 1\n",
    "            \n",
    "unique_term_cts = list(cont_terms.values())\n",
    "\n",
    "plt.hist(cont_terms.values(), bins = 50, color=\"green\")\n",
    "plt.title(\"Terms were mentioned $K$ times in paper exmaple\\n\")\n",
    "plt.xlabel(\"$K$\")\n",
    "plt.ylabel(\"Number of terms (count)\")\n",
    "plt.show()"
   ]
  },
  {
   "cell_type": "code",
   "execution_count": 55,
   "metadata": {},
   "outputs": [
    {
     "data": {
      "image/png": "[encoded data removed]",
      "text/plain": [
       "<Figure size 720x720 with 1 Axes>"
      ]
     },
     "metadata": {
      "needs_background": "light"
     },
     "output_type": "display_data"
    }
   ],
   "source": [
    "# How many annotations of a single type are in one paper?\n",
    "\n",
    "fig = plt.figure(figsize=(10, 10))\n",
    "matplotlib.rcParams.update({'font.size': 18})\n",
    "\n",
    "cont_terms_sorted = {k: v for k, v in sorted(cont_terms.items(), key=lambda item: item[1])}\n",
    "cont_type_freq_sorted = {k: v for k, v in sorted(cont_type_freq.items(), key=lambda item: item[1])}\n",
    "color=['blue', 'blue', 'blue', 'blue', 'blue', 'red', 'blue', 'red', 'blue', 'blue', 'blue', 'red', 'blue', 'blue', 'blue', 'blue', 'blue', 'blue', 'blue']\n",
    "\n",
    "\n",
    "plt.barh(list(cont_type_freq_sorted.keys()), cont_type_freq_sorted.values(), color=color[::-1])\n",
    "plt.xlabel('Count')\n",
    "plt.ylabel('Context Type')\n",
    "plt.title(\"Annotation Counts by Type in First 1000 Papers\")\n",
    "plt.show()\n"
   ]
  },
  {
   "cell_type": "markdown",
   "metadata": {},
   "source": [
    "## Create and set up featurization for classification"
   ]
  },
  {
   "cell_type": "code",
   "execution_count": 12,
   "metadata": {},
   "outputs": [
    {
     "data": {
      "text/plain": [
       "-4.321928094887363"
      ]
     },
     "execution_count": 12,
     "metadata": {},
     "output_type": "execute_result"
    }
   ],
   "source": [
    "# Example for calculating PMI\n",
    "\n",
    "txt_file = \"/Users/dnsosa/Desktop/AltmanLab/bai/biotext/full_texts/PMC5292560.txt\"\n",
    "calculate_pmi(\"apoptosis\", \"family\", txt_file)"
   ]
  },
  {
   "cell_type": "code",
   "execution_count": 13,
   "metadata": {},
   "outputs": [
    {
     "name": "stdout",
     "output_type": "stream",
     "text": [
      "10\n"
     ]
    },
    {
     "name": "stderr",
     "output_type": "stream",
     "text": [
      "/Users/dnsosa/Desktop/AltmanLab/bai/Stanford-Collab/src/lit_contextizer/data_models/DataLoader.py:275: FutureWarning: Sorting because non-concatenation axis is not aligned. A future version\n",
      "of pandas will change to not sort by default.\n",
      "\n",
      "To accept the future behavior, pass 'sort=False'.\n",
      "\n",
      "To retain the current behavior and silence the warning, pass 'sort=True'.\n",
      "\n",
      "  annot_overlap_all_papers_df = pd.concat(paper_dfs)\n"
     ]
    },
    {
     "data": {
      "text/html": [
       "<div>\n",
       "<style scoped>\n",
       "    .dataframe tbody tr th:only-of-type {\n",
       "        vertical-align: middle;\n",
       "    }\n",
       "\n",
       "    .dataframe tbody tr th {\n",
       "        vertical-align: top;\n",
       "    }\n",
       "\n",
       "    .dataframe thead th {\n",
       "        text-align: right;\n",
       "    }\n",
       "</style>\n",
       "<table border=\"1\" class=\"dataframe\">\n",
       "  <thead>\n",
       "    <tr style=\"text-align: right;\">\n",
       "      <th></th>\n",
       "      <th></th>\n",
       "      <th></th>\n",
       "      <th>annot1_ctx_terms</th>\n",
       "      <th>annot2_ctx_terms</th>\n",
       "      <th>annot3_ctx_terms</th>\n",
       "      <th>event_sent_idx</th>\n",
       "      <th>paper_id</th>\n",
       "      <th>two_agree</th>\n",
       "    </tr>\n",
       "    <tr>\n",
       "      <th>event_sent_idx</th>\n",
       "      <th>two_agree</th>\n",
       "      <th></th>\n",
       "      <th></th>\n",
       "      <th></th>\n",
       "      <th></th>\n",
       "      <th></th>\n",
       "      <th></th>\n",
       "      <th></th>\n",
       "    </tr>\n",
       "  </thead>\n",
       "  <tbody>\n",
       "    <tr>\n",
       "      <th rowspan=\"2\" valign=\"top\">14</th>\n",
       "      <th>go:GO:0005829</th>\n",
       "      <th>1</th>\n",
       "      <td>go:GO:0016020</td>\n",
       "      <td>go:GO:0005829</td>\n",
       "      <td>go:GO:0005829</td>\n",
       "      <td>14.0</td>\n",
       "      <td>PMC2156142</td>\n",
       "      <td>go:GO:0005829</td>\n",
       "    </tr>\n",
       "    <tr>\n",
       "      <th>go:GO:0016020</th>\n",
       "      <th>1</th>\n",
       "      <td>go:GO:0016020</td>\n",
       "      <td>go:GO:0005829</td>\n",
       "      <td>go:GO:0016020</td>\n",
       "      <td>14.0</td>\n",
       "      <td>PMC2156142</td>\n",
       "      <td>go:GO:0016020</td>\n",
       "    </tr>\n",
       "    <tr>\n",
       "      <th>15</th>\n",
       "      <th>go:GO:0016020</th>\n",
       "      <th>3</th>\n",
       "      <td>go:GO:0016020</td>\n",
       "      <td>go:GO:0005829</td>\n",
       "      <td>go:GO:0016020</td>\n",
       "      <td>15.0</td>\n",
       "      <td>PMC2156142</td>\n",
       "      <td>go:GO:0016020</td>\n",
       "    </tr>\n",
       "    <tr>\n",
       "      <th>27</th>\n",
       "      <th>go:GO:0009986</th>\n",
       "      <th>9</th>\n",
       "      <td>go:GO:0009986</td>\n",
       "      <td>manual:TGN</td>\n",
       "      <td>go:GO:0009986</td>\n",
       "      <td>27.0</td>\n",
       "      <td>PMC2156142</td>\n",
       "      <td>go:GO:0009986</td>\n",
       "    </tr>\n",
       "    <tr>\n",
       "      <th>204</th>\n",
       "      <th>go:GO:0009986</th>\n",
       "      <th>15</th>\n",
       "      <td>go:GO:0009986</td>\n",
       "      <td>manual:TGN</td>\n",
       "      <td>go:GO:0009986</td>\n",
       "      <td>204.0</td>\n",
       "      <td>PMC2156142</td>\n",
       "      <td>go:GO:0009986</td>\n",
       "    </tr>\n",
       "  </tbody>\n",
       "</table>\n",
       "</div>"
      ],
      "text/plain": [
       "                                annot1_ctx_terms annot2_ctx_terms  \\\n",
       "event_sent_idx two_agree                                            \n",
       "14             go:GO:0005829 1   go:GO:0016020    go:GO:0005829     \n",
       "               go:GO:0016020 1   go:GO:0016020    go:GO:0005829     \n",
       "15             go:GO:0016020 3   go:GO:0016020    go:GO:0005829     \n",
       "27             go:GO:0009986 9   go:GO:0009986    manual:TGN        \n",
       "204            go:GO:0009986 15  go:GO:0009986    manual:TGN        \n",
       "\n",
       "                                annot3_ctx_terms  event_sent_idx    paper_id  \\\n",
       "event_sent_idx two_agree                                                       \n",
       "14             go:GO:0005829 1   go:GO:0005829    14.0            PMC2156142   \n",
       "               go:GO:0016020 1   go:GO:0016020    14.0            PMC2156142   \n",
       "15             go:GO:0016020 3   go:GO:0016020    15.0            PMC2156142   \n",
       "27             go:GO:0009986 9   go:GO:0009986    27.0            PMC2156142   \n",
       "204            go:GO:0009986 15  go:GO:0009986    204.0           PMC2156142   \n",
       "\n",
       "                                     two_agree  \n",
       "event_sent_idx two_agree                        \n",
       "14             go:GO:0005829 1   go:GO:0005829  \n",
       "               go:GO:0016020 1   go:GO:0016020  \n",
       "15             go:GO:0016020 3   go:GO:0016020  \n",
       "27             go:GO:0009986 9   go:GO:0009986  \n",
       "204            go:GO:0009986 15  go:GO:0009986  "
      ]
     },
     "execution_count": 13,
     "metadata": {},
     "output_type": "execute_result"
    }
   ],
   "source": [
    "annot_overlap_all_papers_df = dl.parse_annotation_files_for_val()\n",
    "print(len(dl.val_paper_pile))\n",
    "\n",
    "annot_overlap_all_papers_df.head()"
   ]
  },
  {
   "cell_type": "code",
   "execution_count": null,
   "metadata": {},
   "outputs": [],
   "source": []
  },
  {
   "cell_type": "code",
   "execution_count": null,
   "metadata": {},
   "outputs": [],
   "source": [
    "train_df = generate_pairs_features_df(dl.paper_pile)\n",
    "##train_df.to_csv(\"train_df.csv\")\n",
    "print(\"Done with train\")\n",
    "\n",
    "\n",
    "val_df = generate_pairs_features_df(dl.val_paper_pile)\n",
    "\n",
    "def in_annotation_set(row):\n",
    "    return ((row[\"RelationSent\"].rstrip(), row[\"ContextWord\"].lower()) in annotated_connects)\n",
    "\n",
    "val_df[\"in_annotated\"] = val_df.apply(in_annotation_set, axis=1)\n",
    "print(len(val_df[val_df.in_annotated == True]))\n",
    "print(len(val_df[val_df.in_annotated == False]))\n",
    "val_df[val_df.in_annotated == True].head(50)\n",
    "val_df = val_df.dropna()\n",
    "print(\"Done with test too!\")\n",
    "\n",
    "##test_df = generate_pairs_features_df(test_paper_dict)"
   ]
  },
  {
   "cell_type": "markdown",
   "metadata": {},
   "source": [
    "#### Prepare some label functions"
   ]
  },
  {
   "cell_type": "code",
   "execution_count": 135,
   "metadata": {},
   "outputs": [],
   "source": [
    "from lit_contextizer.classifiers.loss_functions import num_mentions_10, sentence_dist_10, we_our, textblob_subjectivity, keyword_lookup, make_keyword_lf, has_person\n",
    "\n",
    "# \"\"\"'It has been suggested' for example\"\"\"\n",
    "keyword_suggested = make_keyword_lf(keywords=[\"suggested\"], label=NOT_ASSOC)\n",
    "keyword_first_person = make_keyword_lf(keywords=[\"we \", \" our \"], label=ASSOC)\n",
    "keyword_not = make_keyword_lf(keywords=[\" not \"], label=NOT_ASSOC)\n",
    "\n",
    "# one based on sentence similarity...? remove stop words then jaccard...?\n",
    "\n",
    "lfs = [\n",
    "    num_mentions_10,\n",
    "    sentence_dist_10,\n",
    "    keyword_suggested,\n",
    "    keyword_first_person,\n",
    "    keyword_not,\n",
    "    has_person,\n",
    "    textblob_subjectivity\n",
    "]\n",
    "\n",
    "applier = PandasLFApplier(lfs=lfs)\n",
    "L_train = applier.apply(df=train_df)\n",
    "L_test = applier.apply(df=val_df)"
   ]
  },
  {
   "cell_type": "code",
   "execution_count": 189,
   "metadata": {},
   "outputs": [
    {
     "data": {
      "image/png": "[encoded data removed]",
      "text/plain": [
       "<Figure size 864x360 with 3 Axes>"
      ]
     },
     "metadata": {
      "needs_background": "light"
     },
     "output_type": "display_data"
    }
   ],
   "source": [
    "# Look at coverage, etc. stastistics about the label functions\n",
    "\n",
    "from snorkel.labeling import LFAnalysis\n",
    "\n",
    "LF_analysis = LFAnalysis(L=L_train, lfs=lfs).lf_summary()\n",
    "\n",
    "matplotlib.rcParams.update({'font.size': 12})\n",
    "fig, axs = plt.subplots(1, 3, tight_layout=True, figsize=(12,5))\n",
    "\n",
    "\n",
    "x = np.arange(7)  # the label locations\n",
    "width = 1  # the width of the bars\n",
    "\n",
    "\n",
    "def autolabel(rects, i):\n",
    "    \"\"\"Attach a text label above each bar in *rects*, displaying its height.\"\"\"\n",
    "    for rect in rects:\n",
    "        height = np.round(rect.get_height(), 3)\n",
    "        axs[i].annotate(f\"{format(height)}%\",\n",
    "                    xy=(rect.get_x() + rect.get_width() / 2, height),\n",
    "                    xytext=(0, 3),  # 3 points vertical offset\n",
    "                    textcoords=\"offset points\",\n",
    "                    ha='center', va='bottom')\n",
    "\n",
    "rects1 = axs[0].bar(x, np.around(LF_analysis.Coverage, 3)*100, width, color=\"gray\")\n",
    "rects2 = axs[1].bar(x, np.around(LF_analysis.Overlaps, 3)*100, width, color=\"blue\")\n",
    "rects3 = axs[2].bar(x, np.around(LF_analysis.Conflicts, 3)*100, width, color=\"orange\")\n",
    "\n",
    "labels=[\"Num Mention 10\", \"Sent Dist 10\", \"Key: Suggested\", \"Key: We/Our\", \"Key: Not\", \"Has Person\", \"High Subjectivity\"]\n",
    "\n",
    "axs[0].set_ylim(0, 100)\n",
    "axs[1].set_ylim(0, 100)\n",
    "axs[2].set_ylim(0, 100)\n",
    "axs[0].set_xticks(np.arange(7))\n",
    "axs[0].set_xticklabels(labels, rotation=90)\n",
    "axs[1].set_xticks(np.arange(7))\n",
    "axs[1].set_xticklabels(labels, rotation=90)\n",
    "axs[2].set_xticks(np.arange(7))\n",
    "axs[2].set_xticklabels(labels, rotation=90)\n",
    "\n",
    "axs[0].title.set_text('Coverage')\n",
    "axs[1].title.set_text('Overlaps')\n",
    "axs[2].title.set_text('Conflicts')\n",
    "\n",
    "\n",
    "autolabel(rects1, 0)\n",
    "autolabel(rects2, 1)\n",
    "autolabel(rects3, 2)\n",
    "\n",
    "\n",
    "fig.tight_layout()\n",
    "\n",
    "plt.show()"
   ]
  },
  {
   "cell_type": "code",
   "execution_count": 191,
   "metadata": {},
   "outputs": [
    {
     "data": {
      "text/html": [
       "<div>\n",
       "<style scoped>\n",
       "    .dataframe tbody tr th:only-of-type {\n",
       "        vertical-align: middle;\n",
       "    }\n",
       "\n",
       "    .dataframe tbody tr th {\n",
       "        vertical-align: top;\n",
       "    }\n",
       "\n",
       "    .dataframe thead th {\n",
       "        text-align: right;\n",
       "    }\n",
       "</style>\n",
       "<table border=\"1\" class=\"dataframe\">\n",
       "  <thead>\n",
       "    <tr style=\"text-align: right;\">\n",
       "      <th></th>\n",
       "      <th>RelationSent</th>\n",
       "      <th>ContextSent</th>\n",
       "      <th>ContextWord</th>\n",
       "      <th>NumMentions</th>\n",
       "    </tr>\n",
       "  </thead>\n",
       "  <tbody>\n",
       "    <tr>\n",
       "      <th>1170</th>\n",
       "      <td>In addition, PTEN over-expression or Akt inhibition suppressed mTOR activity, thereby increasing LC3-2 expression in IPF fibroblasts.</td>\n",
       "      <td>Taken together, these data showed that enhanced viability in IPF fibroblasts in the presence of autophagy inhibitors is not due to high proliferation but rather due to a desensitized IPF fibroblast property in response to collagen.</td>\n",
       "      <td>fibroblast</td>\n",
       "      <td>29</td>\n",
       "    </tr>\n",
       "    <tr>\n",
       "      <th>785</th>\n",
       "      <td>Intralesional IL-2 (NCT03474497) increases PD-L1 expression and promotes CD8 + T cell infiltration ( 114 ).</td>\n",
       "      <td>However, these differences in EVs do not occur by influencing the T cell response.</td>\n",
       "      <td>t cell</td>\n",
       "      <td>23</td>\n",
       "    </tr>\n",
       "    <tr>\n",
       "      <th>1460</th>\n",
       "      <td>Several studies have shown reciprocal regulation of Tregs and Th17 cells and demonstrated that IL-6 inhibits TGF-β-driven induction of Tregs and induces the production of IL-17 ( Bettelli et al., 2006 ; Veldhoen et al., 2006 ).</td>\n",
       "      <td>Moreover, deleting the IL-6Rα specifically in Foxp3 + Tregs revealed that IL-6 signaling is not required in these cells for the generation of CD4 + T cell responses and instead suggested that IL-6 signaling in conventional CD4 + T cells was critical for the generation of a CD4 + T cell response.</td>\n",
       "      <td>t cell</td>\n",
       "      <td>73</td>\n",
       "    </tr>\n",
       "    <tr>\n",
       "      <th>599</th>\n",
       "      <td>Early studies found Wnt5a to signal independently of β-cat ( 67 ), but we now know that Wnt5a can either activate or inhibit β-cat signaling depending on the presence of distinct cell-state dependent Wnt-receptors and co-receptors ( 15 , 67 ).</td>\n",
       "      <td>Wnt7a, but not Wnt1, inhibited phagocytosis in spleen monocyte-derived macrophages, correlating with reduced expression of surface molecules implicated in phagocytic uptake (e.g., CD14, CD11b, CD163, CD206) ( 39 ).</td>\n",
       "      <td>monocyte</td>\n",
       "      <td>17</td>\n",
       "    </tr>\n",
       "    <tr>\n",
       "      <th>306</th>\n",
       "      <td>PHD2 inhibits HIF-1α, which further inhibits PHD3.</td>\n",
       "      <td>The chondrocyte hypertrophy marker Col10 was also reduced by 50% ( P  &lt;   0.05), while Col2 expression was not changed ( Fig. 6C ).</td>\n",
       "      <td>chondrocyte</td>\n",
       "      <td>28</td>\n",
       "    </tr>\n",
       "    <tr>\n",
       "      <th>2356</th>\n",
       "      <td>In addition, TNFα and FFA inhibit insulin receptor signaling via the increase of serine phosphorylation of IRS-1.</td>\n",
       "      <td>Acute increase in the circulating MCP-1 concentration also induced insulin resistance but not macrophage infiltration into adipose tissue.</td>\n",
       "      <td>macrophage</td>\n",
       "      <td>24</td>\n",
       "    </tr>\n",
       "    <tr>\n",
       "      <th>111</th>\n",
       "      <td>We demonstrated that knockout of NLRP3 moderately suppressed cleaved caspase-1 and lactate dehydrogenase (LDH) levels, as well as the proportion of pyroptosis and that active caspase-1 then cleaved GSDMD to induce pyroptosis.</td>\n",
       "      <td>These results demonstrated that the potentiated production of IL-1α, IL-1β and IL-18 was not due to a global inflammatory response but rather to the activation of caspase-1, which strongly suggested that propofol induces macrophage pyroptosis.</td>\n",
       "      <td>macrophage</td>\n",
       "      <td>24</td>\n",
       "    </tr>\n",
       "    <tr>\n",
       "      <th>675</th>\n",
       "      <td>Conversely, in the absence of Ror2 and the presence Frizzled 4, Wnt5a can activate β-cat signaling ( 15 ).</td>\n",
       "      <td>Wnt7a, but not Wnt1, inhibited phagocytosis in spleen monocyte-derived macrophages, correlating with reduced expression of surface molecules implicated in phagocytic uptake (e.g., CD14, CD11b, CD163, CD206) ( 39 ).</td>\n",
       "      <td>monocyte</td>\n",
       "      <td>17</td>\n",
       "    </tr>\n",
       "    <tr>\n",
       "      <th>2514</th>\n",
       "      <td>Some studies show that leptin increases insulin sensitivity in the hypothalamus at the molecular level ( 202 ), while others have found that leptin impairs insulin signaling in the brain ( 203 ).</td>\n",
       "      <td>Microglia not only phagocytize cells undergoing apoptosis in proliferative zones, but they also produce factors that can either inhibit or stimulate neuroprogenitor cells.</td>\n",
       "      <td>microglia</td>\n",
       "      <td>20</td>\n",
       "    </tr>\n",
       "    <tr>\n",
       "      <th>260</th>\n",
       "      <td>Decreased TNFα level possibly contributes to increased adiponectin level as substantial evidence in literature demonstrate that TNFα inhibits adiponectin expression [40] – [44] .</td>\n",
       "      <td>Indeed, depletion of kupffer cells in DIO mice by intravenous injection of clodronate liposomes, which did not affect visceral adipose macrophage content, did not alter liver triglyceride content, had no improvement on hepatosteatosis or hyperglycemia (data not shown).</td>\n",
       "      <td>macrophage</td>\n",
       "      <td>33</td>\n",
       "    </tr>\n",
       "  </tbody>\n",
       "</table>\n",
       "</div>"
      ],
      "text/plain": [
       "                                                                                                                                                                                                                                             RelationSent  \\\n",
       "1170  In addition, PTEN over-expression or Akt inhibition suppressed mTOR activity, thereby increasing LC3-2 expression in IPF fibroblasts.                                                                                                                 \n",
       "785   Intralesional IL-2 (NCT03474497) increases PD-L1 expression and promotes CD8 + T cell infiltration ( 114 ).                                                                                                                                           \n",
       "1460  Several studies have shown reciprocal regulation of Tregs and Th17 cells and demonstrated that IL-6 inhibits TGF-β-driven induction of Tregs and induces the production of IL-17 ( Bettelli et al., 2006 ; Veldhoen et al., 2006 ).                   \n",
       "599   Early studies found Wnt5a to signal independently of β-cat ( 67 ), but we now know that Wnt5a can either activate or inhibit β-cat signaling depending on the presence of distinct cell-state dependent Wnt-receptors and co-receptors ( 15 , 67 ).   \n",
       "306   PHD2 inhibits HIF-1α, which further inhibits PHD3.                                                                                                                                                                                                    \n",
       "2356  In addition, TNFα and FFA inhibit insulin receptor signaling via the increase of serine phosphorylation of IRS-1.                                                                                                                                     \n",
       "111   We demonstrated that knockout of NLRP3 moderately suppressed cleaved caspase-1 and lactate dehydrogenase (LDH) levels, as well as the proportion of pyroptosis and that active caspase-1 then cleaved GSDMD to induce pyroptosis.                     \n",
       "675   Conversely, in the absence of Ror2 and the presence Frizzled 4, Wnt5a can activate β-cat signaling ( 15 ).                                                                                                                                            \n",
       "2514  Some studies show that leptin increases insulin sensitivity in the hypothalamus at the molecular level ( 202 ), while others have found that leptin impairs insulin signaling in the brain ( 203 ).                                                   \n",
       "260   Decreased TNFα level possibly contributes to increased adiponectin level as substantial evidence in literature demonstrate that TNFα inhibits adiponectin expression [40] – [44] .                                                                    \n",
       "\n",
       "                                                                                                                                                                                                                                                                                                   ContextSent  \\\n",
       "1170  Taken together, these data showed that enhanced viability in IPF fibroblasts in the presence of autophagy inhibitors is not due to high proliferation but rather due to a desensitized IPF fibroblast property in response to collagen.                                                                    \n",
       "785   However, these differences in EVs do not occur by influencing the T cell response.                                                                                                                                                                                                                         \n",
       "1460  Moreover, deleting the IL-6Rα specifically in Foxp3 + Tregs revealed that IL-6 signaling is not required in these cells for the generation of CD4 + T cell responses and instead suggested that IL-6 signaling in conventional CD4 + T cells was critical for the generation of a CD4 + T cell response.   \n",
       "599   Wnt7a, but not Wnt1, inhibited phagocytosis in spleen monocyte-derived macrophages, correlating with reduced expression of surface molecules implicated in phagocytic uptake (e.g., CD14, CD11b, CD163, CD206) ( 39 ).                                                                                     \n",
       "306   The chondrocyte hypertrophy marker Col10 was also reduced by 50% ( P  <   0.05), while Col2 expression was not changed ( Fig. 6C ).                                                                                                                                                                        \n",
       "2356  Acute increase in the circulating MCP-1 concentration also induced insulin resistance but not macrophage infiltration into adipose tissue.                                                                                                                                                                 \n",
       "111   These results demonstrated that the potentiated production of IL-1α, IL-1β and IL-18 was not due to a global inflammatory response but rather to the activation of caspase-1, which strongly suggested that propofol induces macrophage pyroptosis.                                                        \n",
       "675   Wnt7a, but not Wnt1, inhibited phagocytosis in spleen monocyte-derived macrophages, correlating with reduced expression of surface molecules implicated in phagocytic uptake (e.g., CD14, CD11b, CD163, CD206) ( 39 ).                                                                                     \n",
       "2514  Microglia not only phagocytize cells undergoing apoptosis in proliferative zones, but they also produce factors that can either inhibit or stimulate neuroprogenitor cells.                                                                                                                                \n",
       "260   Indeed, depletion of kupffer cells in DIO mice by intravenous injection of clodronate liposomes, which did not affect visceral adipose macrophage content, did not alter liver triglyceride content, had no improvement on hepatosteatosis or hyperglycemia (data not shown).                              \n",
       "\n",
       "      ContextWord  NumMentions  \n",
       "1170  fibroblast   29           \n",
       "785   t cell       23           \n",
       "1460  t cell       73           \n",
       "599   monocyte     17           \n",
       "306   chondrocyte  28           \n",
       "2356  macrophage   24           \n",
       "111   macrophage   24           \n",
       "675   monocyte     17           \n",
       "2514  microglia    20           \n",
       "260   macrophage   33           "
      ]
     },
     "execution_count": 191,
     "metadata": {},
     "output_type": "execute_result"
    }
   ],
   "source": [
    "# Analyze where some LFs differ\n",
    "\n",
    "\n",
    "# NOTE REMOVE SOME BAD CONTEXT WORDS LIKE \"OB\" and \"T\"\n",
    "\n",
    "pd.set_option('display.max_colwidth', -1)\n",
    "\n",
    "buckets = get_label_buckets(L_train[:, 0], L_train[:, 4])\n",
    "train_df.iloc[buckets[(ASSOC, NOT_ASSOC)]].sample(10, random_state=2)[[\"RelationSent\", \"ContextSent\", \"ContextWord\",\"NumMentions\"]]\n"
   ]
  },
  {
   "cell_type": "code",
   "execution_count": 192,
   "metadata": {},
   "outputs": [],
   "source": [
    "from snorkel.labeling.model import LabelModel\n",
    "\n",
    "label_model = LabelModel(cardinality=2, verbose=True)\n",
    "label_model.fit(L_train=L_train, n_epochs=500, log_freq=100, seed=123)"
   ]
  },
  {
   "cell_type": "code",
   "execution_count": 194,
   "metadata": {},
   "outputs": [
    {
     "data": {
      "text/html": [
       "<div>\n",
       "<style scoped>\n",
       "    .dataframe tbody tr th:only-of-type {\n",
       "        vertical-align: middle;\n",
       "    }\n",
       "\n",
       "    .dataframe tbody tr th {\n",
       "        vertical-align: top;\n",
       "    }\n",
       "\n",
       "    .dataframe thead th {\n",
       "        text-align: right;\n",
       "    }\n",
       "</style>\n",
       "<table border=\"1\" class=\"dataframe\">\n",
       "  <thead>\n",
       "    <tr style=\"text-align: right;\">\n",
       "      <th></th>\n",
       "      <th>DOI</th>\n",
       "      <th>RelationSent</th>\n",
       "      <th>ContextSent</th>\n",
       "      <th>ContextWord</th>\n",
       "      <th>SentDist</th>\n",
       "      <th>NumMentions</th>\n",
       "      <th>in_annotated</th>\n",
       "    </tr>\n",
       "  </thead>\n",
       "  <tbody>\n",
       "    <tr>\n",
       "      <th>0</th>\n",
       "      <td>PMC2156142</td>\n",
       "      <td>The warthog ( wrt ) gene , recovered as a modifier for Notch signaling , was found to encode the Drosophila homologue of rab6 , Drab6 .\\n</td>\n",
       "      <td>The warthog ( wrt ) gene , recovered as a modifier for Notch signaling , was found to encode the Drosophila homologue of rab6 , Drab6 .</td>\n",
       "      <td>drosophila</td>\n",
       "      <td>0.0</td>\n",
       "      <td>14</td>\n",
       "      <td>True</td>\n",
       "    </tr>\n",
       "    <tr>\n",
       "      <th>1</th>\n",
       "      <td>PMC2156142</td>\n",
       "      <td>The warthog ( wrt ) gene , recovered as a modifier for Notch signaling , was found to encode the Drosophila homologue of rab6 , Drab6 .\\n</td>\n",
       "      <td>Vertebrate and yeast homologues of this protein have been shown to regulate Golgi network to TGN trafficking .</td>\n",
       "      <td>yeast</td>\n",
       "      <td>1.0</td>\n",
       "      <td>9</td>\n",
       "      <td>False</td>\n",
       "    </tr>\n",
       "    <tr>\n",
       "      <th>2</th>\n",
       "      <td>PMC2156142</td>\n",
       "      <td>The warthog ( wrt ) gene , recovered as a modifier for Notch signaling , was found to encode the Drosophila homologue of rab6 , Drab6 .\\n</td>\n",
       "      <td>Our studies show , contrary to yeast , that the Drosophila homologue of rab6 is an essential gene .</td>\n",
       "      <td>yeast</td>\n",
       "      <td>4.0</td>\n",
       "      <td>9</td>\n",
       "      <td>False</td>\n",
       "    </tr>\n",
       "    <tr>\n",
       "      <th>3</th>\n",
       "      <td>PMC2156142</td>\n",
       "      <td>The warthog ( wrt ) gene , recovered as a modifier for Notch signaling , was found to encode the Drosophila homologue of rab6 , Drab6 .\\n</td>\n",
       "      <td>Our studies show , contrary to yeast , that the Drosophila homologue of rab6 is an essential gene .</td>\n",
       "      <td>drosophila</td>\n",
       "      <td>4.0</td>\n",
       "      <td>14</td>\n",
       "      <td>True</td>\n",
       "    </tr>\n",
       "    <tr>\n",
       "      <th>4</th>\n",
       "      <td>PMC2156142</td>\n",
       "      <td>The warthog ( wrt ) gene , recovered as a modifier for Notch signaling , was found to encode the Drosophila homologue of rab6 , Drab6 .\\n</td>\n",
       "      <td>RabGDI extracts the GDP bound form from membranes of the acceptor compartment and maintains the rab in this inactive state in the cytosol .</td>\n",
       "      <td>membranes</td>\n",
       "      <td>13.0</td>\n",
       "      <td>2</td>\n",
       "      <td>False</td>\n",
       "    </tr>\n",
       "    <tr>\n",
       "      <th>...</th>\n",
       "      <td>...</td>\n",
       "      <td>...</td>\n",
       "      <td>...</td>\n",
       "      <td>...</td>\n",
       "      <td>...</td>\n",
       "      <td>...</td>\n",
       "      <td>...</td>\n",
       "    </tr>\n",
       "    <tr>\n",
       "      <th>44416</th>\n",
       "      <td>PMC534114</td>\n",
       "      <td>Thus Gab1 plays an essential role in bringing together a multi protein signaling complex in response to EGF that modulates a critical aspect of cellular survival .\\n</td>\n",
       "      <td>Gab1 deficient ( Gab1 -/-) mouse embryonic fibroblasts ( MEFs ) were obtained from Walter Birchmeier [ XREF_BIBR ] .</td>\n",
       "      <td>embryonic fibroblasts</td>\n",
       "      <td>7.0</td>\n",
       "      <td>1</td>\n",
       "      <td>True</td>\n",
       "    </tr>\n",
       "    <tr>\n",
       "      <th>44417</th>\n",
       "      <td>PMC534114</td>\n",
       "      <td>Thus Gab1 plays an essential role in bringing together a multi protein signaling complex in response to EGF that modulates a critical aspect of cellular survival .\\n</td>\n",
       "      <td>Gab1 deficient ( Gab1 -/-) mouse embryonic fibroblasts ( MEFs ) were obtained from Walter Birchmeier [ XREF_BIBR ] .</td>\n",
       "      <td>fibroblasts</td>\n",
       "      <td>7.0</td>\n",
       "      <td>3</td>\n",
       "      <td>True</td>\n",
       "    </tr>\n",
       "    <tr>\n",
       "      <th>44418</th>\n",
       "      <td>PMC534114</td>\n",
       "      <td>Thus Gab1 plays an essential role in bringing together a multi protein signaling complex in response to EGF that modulates a critical aspect of cellular survival .\\n</td>\n",
       "      <td>Gab1 deficient ( Gab1 -/-) mouse embryonic fibroblasts ( MEFs ) were obtained from Walter Birchmeier [ XREF_BIBR ] .</td>\n",
       "      <td>mefs</td>\n",
       "      <td>7.0</td>\n",
       "      <td>27</td>\n",
       "      <td>True</td>\n",
       "    </tr>\n",
       "    <tr>\n",
       "      <th>44419</th>\n",
       "      <td>PMC534114</td>\n",
       "      <td>Thus Gab1 plays an essential role in bringing together a multi protein signaling complex in response to EGF that modulates a critical aspect of cellular survival .\\n</td>\n",
       "      <td>Wild type or Gab1-/- MEFs were maintained in DMEM supplemented with 10 % fetal bovine serum ( Gibco ) , 2 mM L-glutamine ( Gibco ) , and 100 mug each of penicillin and streptomycin .</td>\n",
       "      <td>mefs</td>\n",
       "      <td>8.0</td>\n",
       "      <td>27</td>\n",
       "      <td>True</td>\n",
       "    </tr>\n",
       "    <tr>\n",
       "      <th>44420</th>\n",
       "      <td>PMC534114</td>\n",
       "      <td>Thus Gab1 plays an essential role in bringing together a multi protein signaling complex in response to EGF that modulates a critical aspect of cellular survival .\\n</td>\n",
       "      <td>The retroviral vectors described above ( pBabe , pBabe-Gab1 , pBabe-Gab1-Gab1 F446/472/589 , pBabe-Gab1-Gab1 F627/659 , pBabe-Gab1-Gab1 F446/472/589/627/659 , and pBabe-ErbB3 ) were used to transfect the amphitropic retroviral packaging cell line GPG ( obtained from Joan Brugge ) and high-titer viral stocks were used to infect Gab1 -/- MEFs .</td>\n",
       "      <td>mefs</td>\n",
       "      <td>9.0</td>\n",
       "      <td>27</td>\n",
       "      <td>True</td>\n",
       "    </tr>\n",
       "  </tbody>\n",
       "</table>\n",
       "<p>41532 rows × 7 columns</p>\n",
       "</div>"
      ],
      "text/plain": [
       "              DOI  \\\n",
       "0      PMC2156142   \n",
       "1      PMC2156142   \n",
       "2      PMC2156142   \n",
       "3      PMC2156142   \n",
       "4      PMC2156142   \n",
       "...           ...   \n",
       "44416  PMC534114    \n",
       "44417  PMC534114    \n",
       "44418  PMC534114    \n",
       "44419  PMC534114    \n",
       "44420  PMC534114    \n",
       "\n",
       "                                                                                                                                                                RelationSent  \\\n",
       "0      The warthog ( wrt ) gene , recovered as a modifier for Notch signaling , was found to encode the Drosophila homologue of rab6 , Drab6 .\\n                               \n",
       "1      The warthog ( wrt ) gene , recovered as a modifier for Notch signaling , was found to encode the Drosophila homologue of rab6 , Drab6 .\\n                               \n",
       "2      The warthog ( wrt ) gene , recovered as a modifier for Notch signaling , was found to encode the Drosophila homologue of rab6 , Drab6 .\\n                               \n",
       "3      The warthog ( wrt ) gene , recovered as a modifier for Notch signaling , was found to encode the Drosophila homologue of rab6 , Drab6 .\\n                               \n",
       "4      The warthog ( wrt ) gene , recovered as a modifier for Notch signaling , was found to encode the Drosophila homologue of rab6 , Drab6 .\\n                               \n",
       "...                                                                                                                                          ...                               \n",
       "44416  Thus Gab1 plays an essential role in bringing together a multi protein signaling complex in response to EGF that modulates a critical aspect of cellular survival .\\n   \n",
       "44417  Thus Gab1 plays an essential role in bringing together a multi protein signaling complex in response to EGF that modulates a critical aspect of cellular survival .\\n   \n",
       "44418  Thus Gab1 plays an essential role in bringing together a multi protein signaling complex in response to EGF that modulates a critical aspect of cellular survival .\\n   \n",
       "44419  Thus Gab1 plays an essential role in bringing together a multi protein signaling complex in response to EGF that modulates a critical aspect of cellular survival .\\n   \n",
       "44420  Thus Gab1 plays an essential role in bringing together a multi protein signaling complex in response to EGF that modulates a critical aspect of cellular survival .\\n   \n",
       "\n",
       "                                                                                                                                                                                                                                                                                                                                                    ContextSent  \\\n",
       "0      The warthog ( wrt ) gene , recovered as a modifier for Notch signaling , was found to encode the Drosophila homologue of rab6 , Drab6 .                                                                                                                                                                                                                    \n",
       "1       Vertebrate and yeast homologues of this protein have been shown to regulate Golgi network to TGN trafficking .                                                                                                                                                                                                                                            \n",
       "2      Our studies show , contrary to yeast , that the Drosophila homologue of rab6 is an essential gene .                                                                                                                                                                                                                                                        \n",
       "3      Our studies show , contrary to yeast , that the Drosophila homologue of rab6 is an essential gene .                                                                                                                                                                                                                                                        \n",
       "4       RabGDI extracts the GDP bound form from membranes of the acceptor compartment and maintains the rab in this inactive state in the cytosol .                                                                                                                                                                                                               \n",
       "...                                                                                                                                             ...                                                                                                                                                                                                               \n",
       "44416   Gab1 deficient ( Gab1 -/-) mouse embryonic fibroblasts ( MEFs ) were obtained from Walter Birchmeier [ XREF_BIBR ] .                                                                                                                                                                                                                                      \n",
       "44417   Gab1 deficient ( Gab1 -/-) mouse embryonic fibroblasts ( MEFs ) were obtained from Walter Birchmeier [ XREF_BIBR ] .                                                                                                                                                                                                                                      \n",
       "44418   Gab1 deficient ( Gab1 -/-) mouse embryonic fibroblasts ( MEFs ) were obtained from Walter Birchmeier [ XREF_BIBR ] .                                                                                                                                                                                                                                      \n",
       "44419   Wild type or Gab1-/- MEFs were maintained in DMEM supplemented with 10 % fetal bovine serum ( Gibco ) , 2 mM L-glutamine ( Gibco ) , and 100 mug each of penicillin and streptomycin .                                                                                                                                                                    \n",
       "44420  The retroviral vectors described above ( pBabe , pBabe-Gab1 , pBabe-Gab1-Gab1 F446/472/589 , pBabe-Gab1-Gab1 F627/659 , pBabe-Gab1-Gab1 F446/472/589/627/659 , and pBabe-ErbB3 ) were used to transfect the amphitropic retroviral packaging cell line GPG ( obtained from Joan Brugge ) and high-titer viral stocks were used to infect Gab1 -/- MEFs .   \n",
       "\n",
       "                 ContextWord  SentDist  NumMentions  in_annotated  \n",
       "0      drosophila             0.0       14           True          \n",
       "1      yeast                  1.0       9            False         \n",
       "2      yeast                  4.0       9            False         \n",
       "3      drosophila             4.0       14           True          \n",
       "4      membranes              13.0      2            False         \n",
       "...          ...               ...     ..              ...         \n",
       "44416  embryonic fibroblasts  7.0       1            True          \n",
       "44417  fibroblasts            7.0       3            True          \n",
       "44418  mefs                   7.0       27           True          \n",
       "44419  mefs                   8.0       27           True          \n",
       "44420  mefs                   9.0       27           True          \n",
       "\n",
       "[41532 rows x 7 columns]"
      ]
     },
     "execution_count": 194,
     "metadata": {},
     "output_type": "execute_result"
    }
   ],
   "source": [
    "val_df"
   ]
  },
  {
   "cell_type": "code",
   "execution_count": 195,
   "metadata": {},
   "outputs": [
    {
     "name": "stdout",
     "output_type": "stream",
     "text": [
      "Majority Vote Accuracy:   50.4%\n",
      "Label Model Accuracy:     43.9%\n"
     ]
    }
   ],
   "source": [
    "majority_model = MajorityLabelVoter()\n",
    "preds_train = majority_model.predict(L=L_train)\n",
    "\n",
    "label_model = LabelModel(cardinality=2, verbose=True)\n",
    "label_model.fit(L_train=L_train, n_epochs=500, log_freq=100, seed=123)\n",
    "\n",
    "\n",
    "Y_test = val_df.in_annotated.astype(int)\n",
    "\n",
    "\n",
    "majority_acc = majority_model.score(L=L_test, Y=Y_test, tie_break_policy=\"random\")[\n",
    "    \"accuracy\"\n",
    "]\n",
    "print(f\"{'Majority Vote Accuracy:':<25} {majority_acc * 100:.1f}%\")\n",
    "\n",
    "label_model_acc = label_model.score(L=L_test, Y=Y_test, tie_break_policy=\"random\")[\n",
    "    \"accuracy\"\n",
    "]\n",
    "print(f\"{'Label Model Accuracy:':<25} {label_model_acc * 100:.1f}%\")"
   ]
  },
  {
   "cell_type": "code",
   "execution_count": 196,
   "metadata": {},
   "outputs": [],
   "source": [
    "probs_train = label_model.predict_proba(L_train)"
   ]
  },
  {
   "cell_type": "code",
   "execution_count": 197,
   "metadata": {},
   "outputs": [],
   "source": [
    "from snorkel.labeling import filter_unlabeled_dataframe\n",
    "from snorkel.utils import probs_to_preds\n",
    "\n",
    "\n",
    "\n",
    "df_train_filtered, probs_train_filtered = filter_unlabeled_dataframe(\n",
    "    X=train_df, y=probs_train, L=L_train\n",
    ")\n",
    "\n",
    "preds_train_filtered = probs_to_preds(probs=probs_train_filtered)\n",
    "\n"
   ]
  },
  {
   "cell_type": "code",
   "execution_count": 209,
   "metadata": {},
   "outputs": [
    {
     "name": "stderr",
     "output_type": "stream",
     "text": [
      "/Users/dnsosa/opt/miniconda3/envs/sklearn-dev-2/lib/python3.7/site-packages/ipykernel_launcher.py:1: SettingWithCopyWarning: \n",
      "A value is trying to be set on a copy of a slice from a DataFrame.\n",
      "Try using .loc[row_indexer,col_indexer] = value instead\n",
      "\n",
      "See the caveats in the documentation: http://pandas.pydata.org/pandas-docs/stable/user_guide/indexing.html#returning-a-view-versus-a-copy\n",
      "  \"\"\"Entry point for launching an IPython kernel.\n"
     ]
    }
   ],
   "source": [
    "df_train_filtered[\"CombinedSent\"] = df_train_filtered['RelationSent'].astype(str) + \" \" + df_train_filtered['ContextSent']\n",
    "df_train_filtered.head()\n",
    "\n",
    "\n",
    "val_df[\"CombinedSent\"] = val_df['RelationSent'].astype(str) + \" \" + val_df['ContextSent']\n"
   ]
  },
  {
   "cell_type": "code",
   "execution_count": 210,
   "metadata": {},
   "outputs": [
    {
     "name": "stdout",
     "output_type": "stream",
     "text": [
      "Test Accuracy: 24.3%\n"
     ]
    }
   ],
   "source": [
    "from sklearn.feature_extraction.text import CountVectorizer\n",
    "from sklearn.linear_model import LogisticRegression\n",
    "from snorkel.utils import probs_to_preds\n",
    "\n",
    "\n",
    "vectorizer = CountVectorizer(ngram_range=(1, 5))\n",
    "X_train = vectorizer.fit_transform(df_train_filtered.CombinedSent.tolist())\n",
    "X_test = vectorizer.transform(val_df.CombinedSent.tolist())\n",
    "\n",
    "\n",
    "preds_train_filtered = probs_to_preds(probs=probs_train_filtered)\n",
    "\n",
    "sklearn_model = LogisticRegression(C=1e3, solver=\"liblinear\")\n",
    "sklearn_model.fit(X=X_train, y=preds_train_filtered)\n",
    "\n",
    "print(f\"Test Accuracy: {sklearn_model.score(X=X_test, y=Y_test) * 100:.1f}%\")\n"
   ]
  },
  {
   "cell_type": "code",
   "execution_count": 204,
   "metadata": {},
   "outputs": [
    {
     "data": {
      "text/plain": [
       "numpy.ndarray"
      ]
     },
     "execution_count": 204,
     "metadata": {},
     "output_type": "execute_result"
    }
   ],
   "source": [
    "type(preds_train_filtered)"
   ]
  },
  {
   "cell_type": "code",
   "execution_count": 213,
   "metadata": {},
   "outputs": [
    {
     "data": {
      "text/plain": [
       "array([1, 0, 0, ..., 1, 1, 1])"
      ]
     },
     "execution_count": 213,
     "metadata": {},
     "output_type": "execute_result"
    }
   ],
   "source": [
    "np.array(val_df.in_annotated.astype(int))"
   ]
  },
  {
   "cell_type": "code",
   "execution_count": 232,
   "metadata": {},
   "outputs": [
    {
     "name": "stdout",
     "output_type": "stream",
     "text": [
      "2309\n",
      "1657\n"
     ]
    }
   ],
   "source": [
    "print(len(train_df))\n",
    "print(len(df_train_filtered))"
   ]
  },
  {
   "cell_type": "code",
   "execution_count": 234,
   "metadata": {},
   "outputs": [
    {
     "data": {
      "text/plain": [
       "41532"
      ]
     },
     "execution_count": 234,
     "metadata": {},
     "output_type": "execute_result"
    }
   ],
   "source": [
    "len(val_df)"
   ]
  },
  {
   "cell_type": "code",
   "execution_count": 231,
   "metadata": {},
   "outputs": [],
   "source": [
    "x_train = '[CLS]' + df_train_filtered.ContextSent + '[SEP]' + df_train_filtered.RelationSent\n",
    "y_train = preds_train_filtered\n",
    "\n",
    "x_test = '[CLS]' + val_df.ContextSent + '[SEP]' + val_df.RelationSent\n",
    "y_test = np.array(val_df.in_annotated.astype(int))\n",
    "\n",
    "# ???\n",
    "# y_train = np_utils.to_categorical(y_train_tmp)\n",
    "# y_test = np_utils.to_categorical(y_test_tmp)\n",
    "\n",
    "# ???\n",
    "# y_train = np.array(y_train)\n",
    "# y_test = np.array(y_test)"
   ]
  },
  {
   "cell_type": "code",
   "execution_count": 224,
   "metadata": {},
   "outputs": [
    {
     "name": "stdout",
     "output_type": "stream",
     "text": [
      "Done with train_x_str\n",
      "Done with test_x_str\n"
     ]
    },
    {
     "name": "stderr",
     "output_type": "stream",
     "text": [
      "Some weights of the PyTorch model were not used when initializing the TF 2.0 model TFRobertaModel: ['embeddings.position_ids']\n",
      "- This IS expected if you are initializing TFRobertaModel from a PyTorch model trained on another task or with another architecture (e.g. initializing a TFBertForSequenceClassification model from a BertForPreTraining model).\n",
      "- This IS NOT expected if you are initializing TFRobertaModel from a PyTorch model that you expect to be exactly identical (e.g. initializing a TFBertForSequenceClassification model from a BertForSequenceClassification model).\n",
      "All the weights of TFRobertaModel were initialized from the PyTorch model.\n",
      "If your task is similar to the task the model of the checkpoint was trained on, you can already use TFRobertaModel for predictions without further training.\n"
     ]
    },
    {
     "name": "stdout",
     "output_type": "stream",
     "text": [
      "Model: \"model_1\"\n",
      "_________________________________________________________________\n",
      "Layer (type)                 Output Shape              Param #   \n",
      "=================================================================\n",
      "input_word_ids (InputLayer)  [(None, 512)]             0         \n",
      "_________________________________________________________________\n",
      "tf_roberta_model_1 (TFRobert ((None, 512, 768), (None, 124645632 \n",
      "_________________________________________________________________\n",
      "tf.__operators__.getitem_1 ( (None, 768)               0         \n",
      "_________________________________________________________________\n",
      "sigmoid (Dense)              (None, 1)                 769       \n",
      "=================================================================\n",
      "Total params: 124,646,401\n",
      "Trainable params: 124,646,401\n",
      "Non-trainable params: 0\n",
      "_________________________________________________________________\n",
      "None\n",
      "Epoch 1/3\n",
      "WARNING:tensorflow:Model was constructed with shape (None, 512) for input KerasTensor(type_spec=TensorSpec(shape=(None, 512), dtype=tf.int32, name='input_word_ids'), name='input_word_ids', description=\"created by layer 'input_word_ids'\"), but it was called on an input with incompatible shape (None, 1).\n"
     ]
    },
    {
     "name": "stderr",
     "output_type": "stream",
     "text": [
      "WARNING:tensorflow:Model was constructed with shape (None, 512) for input KerasTensor(type_spec=TensorSpec(shape=(None, 512), dtype=tf.int32, name='input_word_ids'), name='input_word_ids', description=\"created by layer 'input_word_ids'\"), but it was called on an input with incompatible shape (None, 1).\n"
     ]
    },
    {
     "name": "stdout",
     "output_type": "stream",
     "text": [
      "WARNING:tensorflow:Gradients do not exist for variables ['tf_roberta_model_1/roberta/pooler/dense/kernel:0', 'tf_roberta_model_1/roberta/pooler/dense/bias:0'] when minimizing the loss.\n"
     ]
    },
    {
     "name": "stderr",
     "output_type": "stream",
     "text": [
      "WARNING:tensorflow:Gradients do not exist for variables ['tf_roberta_model_1/roberta/pooler/dense/kernel:0', 'tf_roberta_model_1/roberta/pooler/dense/bias:0'] when minimizing the loss.\n"
     ]
    },
    {
     "name": "stdout",
     "output_type": "stream",
     "text": [
      "WARNING:tensorflow:Model was constructed with shape (None, 512) for input KerasTensor(type_spec=TensorSpec(shape=(None, 512), dtype=tf.int32, name='input_word_ids'), name='input_word_ids', description=\"created by layer 'input_word_ids'\"), but it was called on an input with incompatible shape (None, 1).\n"
     ]
    },
    {
     "name": "stderr",
     "output_type": "stream",
     "text": [
      "WARNING:tensorflow:Model was constructed with shape (None, 512) for input KerasTensor(type_spec=TensorSpec(shape=(None, 512), dtype=tf.int32, name='input_word_ids'), name='input_word_ids', description=\"created by layer 'input_word_ids'\"), but it was called on an input with incompatible shape (None, 1).\n"
     ]
    },
    {
     "name": "stdout",
     "output_type": "stream",
     "text": [
      "WARNING:tensorflow:Gradients do not exist for variables ['tf_roberta_model_1/roberta/pooler/dense/kernel:0', 'tf_roberta_model_1/roberta/pooler/dense/bias:0'] when minimizing the loss.\n"
     ]
    },
    {
     "name": "stderr",
     "output_type": "stream",
     "text": [
      "WARNING:tensorflow:Gradients do not exist for variables ['tf_roberta_model_1/roberta/pooler/dense/kernel:0', 'tf_roberta_model_1/roberta/pooler/dense/bias:0'] when minimizing the loss.\n"
     ]
    },
    {
     "ename": "UnimplementedError",
     "evalue": " Cast string to int32 is not supported\n\t [[node model_1/Cast (defined at <ipython-input-224-85015e9ebd48>:69) ]] [Op:__inference_train_function_37810]\n\nFunction call stack:\ntrain_function\n",
     "output_type": "error",
     "traceback": [
      "\u001b[0;31m---------------------------------------------------------------------------\u001b[0m",
      "\u001b[0;31mUnimplementedError\u001b[0m                        Traceback (most recent call last)",
      "\u001b[0;32m<ipython-input-224-85015e9ebd48>\u001b[0m in \u001b[0;36m<module>\u001b[0;34m\u001b[0m\n\u001b[1;32m     67\u001b[0m                           \u001b[0;31m#callbacks=[es, WandbCallback()],\u001b[0m\u001b[0;34m\u001b[0m\u001b[0;34m\u001b[0m\u001b[0;34m\u001b[0m\u001b[0m\n\u001b[1;32m     68\u001b[0m                           \u001b[0mcallbacks\u001b[0m\u001b[0;34m=\u001b[0m\u001b[0;34m[\u001b[0m\u001b[0mes\u001b[0m\u001b[0;34m]\u001b[0m\u001b[0;34m,\u001b[0m\u001b[0;34m\u001b[0m\u001b[0;34m\u001b[0m\u001b[0m\n\u001b[0;32m---> 69\u001b[0;31m                           epochs=epochs)#,\n\u001b[0m\u001b[1;32m     70\u001b[0m                           \u001b[0;31m#class_weight=get_class_weights(train_y))\u001b[0m\u001b[0;34m\u001b[0m\u001b[0;34m\u001b[0m\u001b[0;34m\u001b[0m\u001b[0m\n\u001b[1;32m     71\u001b[0m \u001b[0;34m\u001b[0m\u001b[0m\n",
      "\u001b[0;32m~/opt/miniconda3/envs/sklearn-dev-2/lib/python3.7/site-packages/tensorflow/python/keras/engine/training.py\u001b[0m in \u001b[0;36mfit\u001b[0;34m(self, x, y, batch_size, epochs, verbose, callbacks, validation_split, validation_data, shuffle, class_weight, sample_weight, initial_epoch, steps_per_epoch, validation_steps, validation_batch_size, validation_freq, max_queue_size, workers, use_multiprocessing)\u001b[0m\n\u001b[1;32m   1098\u001b[0m                 _r=1):\n\u001b[1;32m   1099\u001b[0m               \u001b[0mcallbacks\u001b[0m\u001b[0;34m.\u001b[0m\u001b[0mon_train_batch_begin\u001b[0m\u001b[0;34m(\u001b[0m\u001b[0mstep\u001b[0m\u001b[0;34m)\u001b[0m\u001b[0;34m\u001b[0m\u001b[0;34m\u001b[0m\u001b[0m\n\u001b[0;32m-> 1100\u001b[0;31m               \u001b[0mtmp_logs\u001b[0m \u001b[0;34m=\u001b[0m \u001b[0mself\u001b[0m\u001b[0;34m.\u001b[0m\u001b[0mtrain_function\u001b[0m\u001b[0;34m(\u001b[0m\u001b[0miterator\u001b[0m\u001b[0;34m)\u001b[0m\u001b[0;34m\u001b[0m\u001b[0;34m\u001b[0m\u001b[0m\n\u001b[0m\u001b[1;32m   1101\u001b[0m               \u001b[0;32mif\u001b[0m \u001b[0mdata_handler\u001b[0m\u001b[0;34m.\u001b[0m\u001b[0mshould_sync\u001b[0m\u001b[0;34m:\u001b[0m\u001b[0;34m\u001b[0m\u001b[0;34m\u001b[0m\u001b[0m\n\u001b[1;32m   1102\u001b[0m                 \u001b[0mcontext\u001b[0m\u001b[0;34m.\u001b[0m\u001b[0masync_wait\u001b[0m\u001b[0;34m(\u001b[0m\u001b[0;34m)\u001b[0m\u001b[0;34m\u001b[0m\u001b[0;34m\u001b[0m\u001b[0m\n",
      "\u001b[0;32m~/opt/miniconda3/envs/sklearn-dev-2/lib/python3.7/site-packages/tensorflow/python/eager/def_function.py\u001b[0m in \u001b[0;36m__call__\u001b[0;34m(self, *args, **kwds)\u001b[0m\n\u001b[1;32m    826\u001b[0m     \u001b[0mtracing_count\u001b[0m \u001b[0;34m=\u001b[0m \u001b[0mself\u001b[0m\u001b[0;34m.\u001b[0m\u001b[0mexperimental_get_tracing_count\u001b[0m\u001b[0;34m(\u001b[0m\u001b[0;34m)\u001b[0m\u001b[0;34m\u001b[0m\u001b[0;34m\u001b[0m\u001b[0m\n\u001b[1;32m    827\u001b[0m     \u001b[0;32mwith\u001b[0m \u001b[0mtrace\u001b[0m\u001b[0;34m.\u001b[0m\u001b[0mTrace\u001b[0m\u001b[0;34m(\u001b[0m\u001b[0mself\u001b[0m\u001b[0;34m.\u001b[0m\u001b[0m_name\u001b[0m\u001b[0;34m)\u001b[0m \u001b[0;32mas\u001b[0m \u001b[0mtm\u001b[0m\u001b[0;34m:\u001b[0m\u001b[0;34m\u001b[0m\u001b[0;34m\u001b[0m\u001b[0m\n\u001b[0;32m--> 828\u001b[0;31m       \u001b[0mresult\u001b[0m \u001b[0;34m=\u001b[0m \u001b[0mself\u001b[0m\u001b[0;34m.\u001b[0m\u001b[0m_call\u001b[0m\u001b[0;34m(\u001b[0m\u001b[0;34m*\u001b[0m\u001b[0margs\u001b[0m\u001b[0;34m,\u001b[0m \u001b[0;34m**\u001b[0m\u001b[0mkwds\u001b[0m\u001b[0;34m)\u001b[0m\u001b[0;34m\u001b[0m\u001b[0;34m\u001b[0m\u001b[0m\n\u001b[0m\u001b[1;32m    829\u001b[0m       \u001b[0mcompiler\u001b[0m \u001b[0;34m=\u001b[0m \u001b[0;34m\"xla\"\u001b[0m \u001b[0;32mif\u001b[0m \u001b[0mself\u001b[0m\u001b[0;34m.\u001b[0m\u001b[0m_experimental_compile\u001b[0m \u001b[0;32melse\u001b[0m \u001b[0;34m\"nonXla\"\u001b[0m\u001b[0;34m\u001b[0m\u001b[0;34m\u001b[0m\u001b[0m\n\u001b[1;32m    830\u001b[0m       \u001b[0mnew_tracing_count\u001b[0m \u001b[0;34m=\u001b[0m \u001b[0mself\u001b[0m\u001b[0;34m.\u001b[0m\u001b[0mexperimental_get_tracing_count\u001b[0m\u001b[0;34m(\u001b[0m\u001b[0;34m)\u001b[0m\u001b[0;34m\u001b[0m\u001b[0;34m\u001b[0m\u001b[0m\n",
      "\u001b[0;32m~/opt/miniconda3/envs/sklearn-dev-2/lib/python3.7/site-packages/tensorflow/python/eager/def_function.py\u001b[0m in \u001b[0;36m_call\u001b[0;34m(self, *args, **kwds)\u001b[0m\n\u001b[1;32m    886\u001b[0m         \u001b[0;31m# Lifting succeeded, so variables are initialized and we can run the\u001b[0m\u001b[0;34m\u001b[0m\u001b[0;34m\u001b[0m\u001b[0;34m\u001b[0m\u001b[0m\n\u001b[1;32m    887\u001b[0m         \u001b[0;31m# stateless function.\u001b[0m\u001b[0;34m\u001b[0m\u001b[0;34m\u001b[0m\u001b[0;34m\u001b[0m\u001b[0m\n\u001b[0;32m--> 888\u001b[0;31m         \u001b[0;32mreturn\u001b[0m \u001b[0mself\u001b[0m\u001b[0;34m.\u001b[0m\u001b[0m_stateless_fn\u001b[0m\u001b[0;34m(\u001b[0m\u001b[0;34m*\u001b[0m\u001b[0margs\u001b[0m\u001b[0;34m,\u001b[0m \u001b[0;34m**\u001b[0m\u001b[0mkwds\u001b[0m\u001b[0;34m)\u001b[0m\u001b[0;34m\u001b[0m\u001b[0;34m\u001b[0m\u001b[0m\n\u001b[0m\u001b[1;32m    889\u001b[0m     \u001b[0;32melse\u001b[0m\u001b[0;34m:\u001b[0m\u001b[0;34m\u001b[0m\u001b[0;34m\u001b[0m\u001b[0m\n\u001b[1;32m    890\u001b[0m       \u001b[0m_\u001b[0m\u001b[0;34m,\u001b[0m \u001b[0m_\u001b[0m\u001b[0;34m,\u001b[0m \u001b[0m_\u001b[0m\u001b[0;34m,\u001b[0m \u001b[0mfiltered_flat_args\u001b[0m \u001b[0;34m=\u001b[0m\u001b[0;31m \u001b[0m\u001b[0;31m\\\u001b[0m\u001b[0;34m\u001b[0m\u001b[0;34m\u001b[0m\u001b[0m\n",
      "\u001b[0;32m~/opt/miniconda3/envs/sklearn-dev-2/lib/python3.7/site-packages/tensorflow/python/eager/function.py\u001b[0m in \u001b[0;36m__call__\u001b[0;34m(self, *args, **kwargs)\u001b[0m\n\u001b[1;32m   2941\u001b[0m        filtered_flat_args) = self._maybe_define_function(args, kwargs)\n\u001b[1;32m   2942\u001b[0m     return graph_function._call_flat(\n\u001b[0;32m-> 2943\u001b[0;31m         filtered_flat_args, captured_inputs=graph_function.captured_inputs)  # pylint: disable=protected-access\n\u001b[0m\u001b[1;32m   2944\u001b[0m \u001b[0;34m\u001b[0m\u001b[0m\n\u001b[1;32m   2945\u001b[0m   \u001b[0;34m@\u001b[0m\u001b[0mproperty\u001b[0m\u001b[0;34m\u001b[0m\u001b[0;34m\u001b[0m\u001b[0m\n",
      "\u001b[0;32m~/opt/miniconda3/envs/sklearn-dev-2/lib/python3.7/site-packages/tensorflow/python/eager/function.py\u001b[0m in \u001b[0;36m_call_flat\u001b[0;34m(self, args, captured_inputs, cancellation_manager)\u001b[0m\n\u001b[1;32m   1917\u001b[0m       \u001b[0;31m# No tape is watching; skip to running the function.\u001b[0m\u001b[0;34m\u001b[0m\u001b[0;34m\u001b[0m\u001b[0;34m\u001b[0m\u001b[0m\n\u001b[1;32m   1918\u001b[0m       return self._build_call_outputs(self._inference_function.call(\n\u001b[0;32m-> 1919\u001b[0;31m           ctx, args, cancellation_manager=cancellation_manager))\n\u001b[0m\u001b[1;32m   1920\u001b[0m     forward_backward = self._select_forward_and_backward_functions(\n\u001b[1;32m   1921\u001b[0m         \u001b[0margs\u001b[0m\u001b[0;34m,\u001b[0m\u001b[0;34m\u001b[0m\u001b[0;34m\u001b[0m\u001b[0m\n",
      "\u001b[0;32m~/opt/miniconda3/envs/sklearn-dev-2/lib/python3.7/site-packages/tensorflow/python/eager/function.py\u001b[0m in \u001b[0;36mcall\u001b[0;34m(self, ctx, args, cancellation_manager)\u001b[0m\n\u001b[1;32m    558\u001b[0m               \u001b[0minputs\u001b[0m\u001b[0;34m=\u001b[0m\u001b[0margs\u001b[0m\u001b[0;34m,\u001b[0m\u001b[0;34m\u001b[0m\u001b[0;34m\u001b[0m\u001b[0m\n\u001b[1;32m    559\u001b[0m               \u001b[0mattrs\u001b[0m\u001b[0;34m=\u001b[0m\u001b[0mattrs\u001b[0m\u001b[0;34m,\u001b[0m\u001b[0;34m\u001b[0m\u001b[0;34m\u001b[0m\u001b[0m\n\u001b[0;32m--> 560\u001b[0;31m               ctx=ctx)\n\u001b[0m\u001b[1;32m    561\u001b[0m         \u001b[0;32melse\u001b[0m\u001b[0;34m:\u001b[0m\u001b[0;34m\u001b[0m\u001b[0;34m\u001b[0m\u001b[0m\n\u001b[1;32m    562\u001b[0m           outputs = execute.execute_with_cancellation(\n",
      "\u001b[0;32m~/opt/miniconda3/envs/sklearn-dev-2/lib/python3.7/site-packages/tensorflow/python/eager/execute.py\u001b[0m in \u001b[0;36mquick_execute\u001b[0;34m(op_name, num_outputs, inputs, attrs, ctx, name)\u001b[0m\n\u001b[1;32m     58\u001b[0m     \u001b[0mctx\u001b[0m\u001b[0;34m.\u001b[0m\u001b[0mensure_initialized\u001b[0m\u001b[0;34m(\u001b[0m\u001b[0;34m)\u001b[0m\u001b[0;34m\u001b[0m\u001b[0;34m\u001b[0m\u001b[0m\n\u001b[1;32m     59\u001b[0m     tensors = pywrap_tfe.TFE_Py_Execute(ctx._handle, device_name, op_name,\n\u001b[0;32m---> 60\u001b[0;31m                                         inputs, attrs, num_outputs)\n\u001b[0m\u001b[1;32m     61\u001b[0m   \u001b[0;32mexcept\u001b[0m \u001b[0mcore\u001b[0m\u001b[0;34m.\u001b[0m\u001b[0m_NotOkStatusException\u001b[0m \u001b[0;32mas\u001b[0m \u001b[0me\u001b[0m\u001b[0;34m:\u001b[0m\u001b[0;34m\u001b[0m\u001b[0;34m\u001b[0m\u001b[0m\n\u001b[1;32m     62\u001b[0m     \u001b[0;32mif\u001b[0m \u001b[0mname\u001b[0m \u001b[0;32mis\u001b[0m \u001b[0;32mnot\u001b[0m \u001b[0;32mNone\u001b[0m\u001b[0;34m:\u001b[0m\u001b[0;34m\u001b[0m\u001b[0;34m\u001b[0m\u001b[0m\n",
      "\u001b[0;31mUnimplementedError\u001b[0m:  Cast string to int32 is not supported\n\t [[node model_1/Cast (defined at <ipython-input-224-85015e9ebd48>:69) ]] [Op:__inference_train_function_37810]\n\nFunction call stack:\ntrain_function\n"
     ]
    }
   ],
   "source": [
    "# Let's fire up that BERT\n",
    "import contradictory_claims\n",
    "import datetime\n",
    "import os\n",
    "import shutil\n",
    "import lit_contextizer\n",
    "import snorkel\n",
    "from transformers import AutoModel, AutoModelWithLMHead, AutoTokenizer, TFAutoModel\n",
    "from tensorflow.keras.callbacks import EarlyStopping\n",
    "from random import randrange\n",
    "from contradictory_claims.models.train_model import build_model, regular_encode\n",
    "\n",
    "multi_class = False\n",
    "batch_size = 32\n",
    "lr_decay = False\n",
    "epochs = 3\n",
    "learning_rate = 1e-6\n",
    "max_len = 512\n",
    "\n",
    "#train_x = ???\n",
    "#test_x = ???\n",
    "#train_y = ???\n",
    "#test_y = ???\n",
    "\n",
    "\n",
    "model_name = 'allenai/biomed_roberta_base'\n",
    "tokenizer = AutoTokenizer.from_pretrained(model_name)\n",
    "\n",
    "\n",
    "train_x_str = [str(sen) for sen in x_train]\n",
    "train_x = regular_encode(train_x_str, tokenizer, maxlen=max_len, multi_class=multi_class)\n",
    "print(\"Done with train_x_str\")  # noqa: T001\n",
    "\n",
    "test_x_str = [str(sen) for sen in x_test]\n",
    "test_x = regular_encode(test_x_str, tokenizer, maxlen=max_len, multi_class=multi_class)\n",
    "print(\"Done with test_x_str\")  # noqa: T001\n",
    "\n",
    "es = EarlyStopping(monitor='val_accuracy',\n",
    "                   min_delta=0.001,\n",
    "                   patience=3,\n",
    "                   verbose=1,\n",
    "                   mode='max',\n",
    "                   restore_best_weights=True)\n",
    "\n",
    "now = datetime.datetime.now()\n",
    "model = AutoModel.from_pretrained(\"allenai/biomed_roberta_base\")\n",
    "model.resize_token_embeddings(len(tokenizer))\n",
    "ri = randrange(1000)\n",
    "tmp_dir = f\"biomed_roberta_base-{now.day}_{now.month}_{now.year}-{now.hour}:{now.minute}:{now.second}_{ri}\"\n",
    "if os.path.exists(tmp_dir):\n",
    "    raise Exception(\"Directory conflict when saving model temporarily!\")\n",
    "os.makedirs(tmp_dir)\n",
    "model.save_pretrained(tmp_dir)\n",
    "\n",
    "model = TFAutoModel.from_pretrained(tmp_dir, from_pt=True)\n",
    "model = build_model(model, multi_class=multi_class, init_learning_rate=learning_rate, lr_decay=lr_decay)\n",
    "shutil.rmtree(tmp_dir)\n",
    "\n",
    "\n",
    "print(model.summary())  # noqa: T001\n",
    "\n",
    "\n",
    "train_history = model.fit(x_train,\n",
    "                          y_train,\n",
    "                          batch_size=batch_size,\n",
    "                          validation_data=(x_test, y_test),\n",
    "                          #callbacks=[es, WandbCallback()],\n",
    "                          callbacks=[es],\n",
    "                          epochs=epochs)#,\n",
    "                          #class_weight=get_class_weights(train_y))\n",
    "\n"
   ]
  },
  {
   "cell_type": "code",
   "execution_count": null,
   "metadata": {},
   "outputs": [],
   "source": [
    "# TO DO TODAY:\n",
    "# 1. BERT running\n",
    "# 2. PMI try\n",
    "# 3. Annotators agree?\n",
    "# 4. Logistic regression version\n"
   ]
  }
 ],
 "metadata": {
  "kernelspec": {
   "display_name": "Python 3",
   "language": "python",
   "name": "python3"
  },
  "language_info": {
   "codemirror_mode": {
    "name": "ipython",
    "version": 3
   },
   "file_extension": ".py",
   "mimetype": "text/x-python",
   "name": "python",
   "nbconvert_exporter": "python",
   "pygments_lexer": "ipython3",
   "version": "3.7.7"
  }
 },
 "nbformat": 4,
 "nbformat_minor": 4
}
